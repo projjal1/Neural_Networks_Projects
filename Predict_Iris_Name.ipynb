{
  "nbformat": 4,
  "nbformat_minor": 0,
  "metadata": {
    "colab": {
      "name": "Predict-Iris-Name.ipynb",
      "provenance": [],
      "collapsed_sections": [],
      "authorship_tag": "ABX9TyPtwb18tHAPD8Eotj6KHG7I",
      "include_colab_link": true
    },
    "kernelspec": {
      "name": "python3",
      "display_name": "Python 3"
    }
  },
  "cells": [
    {
      "cell_type": "markdown",
      "metadata": {
        "id": "view-in-github",
        "colab_type": "text"
      },
      "source": [
        "<a href=\"https://colab.research.google.com/github/projjal1/Neural_Networks_Projects/blob/master/Predict_Iris_Name.ipynb\" target=\"_parent\"><img src=\"https://colab.research.google.com/assets/colab-badge.svg\" alt=\"Open In Colab\"/></a>"
      ]
    },
    {
      "cell_type": "markdown",
      "metadata": {
        "id": "NgIK2xBUOv7T"
      },
      "source": [
        "Importing all the required libraries for the ML task"
      ]
    },
    {
      "cell_type": "code",
      "metadata": {
        "id": "gOXPnJr1H6_D"
      },
      "source": [
        "import pandas as pd\n",
        "import numpy as np"
      ],
      "execution_count": null,
      "outputs": []
    },
    {
      "cell_type": "markdown",
      "metadata": {
        "id": "OxeVpeQHOp_q"
      },
      "source": [
        "Read the .data file from the ICS archive "
      ]
    },
    {
      "cell_type": "code",
      "metadata": {
        "id": "9dj-CwitIHv0"
      },
      "source": [
        "data=pd.read_csv('https://archive.ics.uci.edu/ml/machine-learning-databases/iris/iris.data',names=['sepal length', 'sepal width', \\\n",
        "                                                       'petal length', \"petal width\",\n",
        "                                                      'Species'])"
      ],
      "execution_count": null,
      "outputs": []
    },
    {
      "cell_type": "markdown",
      "metadata": {
        "id": "3QUpVdr2O7hN"
      },
      "source": [
        "Lets look at few rows of dataset "
      ]
    },
    {
      "cell_type": "code",
      "metadata": {
        "id": "pIWSzp17ISXf",
        "colab": {
          "base_uri": "https://localhost:8080/",
          "height": 195
        },
        "outputId": "850093ce-fec6-4a23-d156-a48fec5f0f51"
      },
      "source": [
        "data.head()"
      ],
      "execution_count": null,
      "outputs": [
        {
          "output_type": "execute_result",
          "data": {
            "text/html": [
              "<div>\n",
              "<style scoped>\n",
              "    .dataframe tbody tr th:only-of-type {\n",
              "        vertical-align: middle;\n",
              "    }\n",
              "\n",
              "    .dataframe tbody tr th {\n",
              "        vertical-align: top;\n",
              "    }\n",
              "\n",
              "    .dataframe thead th {\n",
              "        text-align: right;\n",
              "    }\n",
              "</style>\n",
              "<table border=\"1\" class=\"dataframe\">\n",
              "  <thead>\n",
              "    <tr style=\"text-align: right;\">\n",
              "      <th></th>\n",
              "      <th>sepal length</th>\n",
              "      <th>sepal width</th>\n",
              "      <th>petal length</th>\n",
              "      <th>petal width</th>\n",
              "      <th>Species</th>\n",
              "    </tr>\n",
              "  </thead>\n",
              "  <tbody>\n",
              "    <tr>\n",
              "      <th>0</th>\n",
              "      <td>5.1</td>\n",
              "      <td>3.5</td>\n",
              "      <td>1.4</td>\n",
              "      <td>0.2</td>\n",
              "      <td>Iris-setosa</td>\n",
              "    </tr>\n",
              "    <tr>\n",
              "      <th>1</th>\n",
              "      <td>4.9</td>\n",
              "      <td>3.0</td>\n",
              "      <td>1.4</td>\n",
              "      <td>0.2</td>\n",
              "      <td>Iris-setosa</td>\n",
              "    </tr>\n",
              "    <tr>\n",
              "      <th>2</th>\n",
              "      <td>4.7</td>\n",
              "      <td>3.2</td>\n",
              "      <td>1.3</td>\n",
              "      <td>0.2</td>\n",
              "      <td>Iris-setosa</td>\n",
              "    </tr>\n",
              "    <tr>\n",
              "      <th>3</th>\n",
              "      <td>4.6</td>\n",
              "      <td>3.1</td>\n",
              "      <td>1.5</td>\n",
              "      <td>0.2</td>\n",
              "      <td>Iris-setosa</td>\n",
              "    </tr>\n",
              "    <tr>\n",
              "      <th>4</th>\n",
              "      <td>5.0</td>\n",
              "      <td>3.6</td>\n",
              "      <td>1.4</td>\n",
              "      <td>0.2</td>\n",
              "      <td>Iris-setosa</td>\n",
              "    </tr>\n",
              "  </tbody>\n",
              "</table>\n",
              "</div>"
            ],
            "text/plain": [
              "   sepal length  sepal width  petal length  petal width      Species\n",
              "0           5.1          3.5           1.4          0.2  Iris-setosa\n",
              "1           4.9          3.0           1.4          0.2  Iris-setosa\n",
              "2           4.7          3.2           1.3          0.2  Iris-setosa\n",
              "3           4.6          3.1           1.5          0.2  Iris-setosa\n",
              "4           5.0          3.6           1.4          0.2  Iris-setosa"
            ]
          },
          "metadata": {
            "tags": []
          },
          "execution_count": 7
        }
      ]
    },
    {
      "cell_type": "markdown",
      "metadata": {
        "id": "Zyem48OePDZq"
      },
      "source": [
        "Shape of the dataset in rows and columns"
      ]
    },
    {
      "cell_type": "code",
      "metadata": {
        "id": "X0DzzXtRIUh3",
        "colab": {
          "base_uri": "https://localhost:8080/"
        },
        "outputId": "22a353ec-8bc6-4803-f84b-f88e2f4b5085"
      },
      "source": [
        "print(\"Dataset has {0} rows and {1} columns.\".format(data.shape[0],data.shape[1]))"
      ],
      "execution_count": null,
      "outputs": [
        {
          "output_type": "stream",
          "text": [
            "Dataset has 150 rows and 5 columns.\n"
          ],
          "name": "stdout"
        }
      ]
    },
    {
      "cell_type": "markdown",
      "metadata": {
        "id": "GxjxHpkLPIBI"
      },
      "source": [
        "Extracting labels from the dataset"
      ]
    },
    {
      "cell_type": "code",
      "metadata": {
        "id": "HnGm717vIhuj",
        "colab": {
          "base_uri": "https://localhost:8080/"
        },
        "outputId": "0f5d1965-bb72-4837-811a-f78ad7a0e771"
      },
      "source": [
        "labels=data.Species.values\n",
        "labels[:5]"
      ],
      "execution_count": null,
      "outputs": [
        {
          "output_type": "execute_result",
          "data": {
            "text/plain": [
              "array(['Iris-setosa', 'Iris-setosa', 'Iris-setosa', 'Iris-setosa',\n",
              "       'Iris-setosa'], dtype=object)"
            ]
          },
          "metadata": {
            "tags": []
          },
          "execution_count": 11
        }
      ]
    },
    {
      "cell_type": "markdown",
      "metadata": {
        "id": "NYrnpBOvPKcH"
      },
      "source": [
        "Dropping label('Species') column and then extracting features from data"
      ]
    },
    {
      "cell_type": "code",
      "metadata": {
        "id": "WC6JvHqAJFh3",
        "colab": {
          "base_uri": "https://localhost:8080/"
        },
        "outputId": "15369191-b0d7-46e1-d961-6d567a161bda"
      },
      "source": [
        "data=data.drop(['Species'],axis=1)\n",
        "params=data.values\n",
        "params[:5]"
      ],
      "execution_count": null,
      "outputs": [
        {
          "output_type": "execute_result",
          "data": {
            "text/plain": [
              "array([[5.1, 3.5, 1.4, 0.2],\n",
              "       [4.9, 3. , 1.4, 0.2],\n",
              "       [4.7, 3.2, 1.3, 0.2],\n",
              "       [4.6, 3.1, 1.5, 0.2],\n",
              "       [5. , 3.6, 1.4, 0.2]])"
            ]
          },
          "metadata": {
            "tags": []
          },
          "execution_count": 14
        }
      ]
    },
    {
      "cell_type": "markdown",
      "metadata": {
        "id": "C5K31GtiPVFP"
      },
      "source": [
        "Encoding labels using Label Encoder from sklearn library"
      ]
    },
    {
      "cell_type": "code",
      "metadata": {
        "id": "u6_hMv5sM3xx"
      },
      "source": [
        "from sklearn.preprocessing import LabelEncoder\n",
        "labelencode=LabelEncoder()\n",
        "labels=labelencode.fit_transform(labels)"
      ],
      "execution_count": null,
      "outputs": []
    },
    {
      "cell_type": "code",
      "metadata": {
        "id": "Lf-FEwA4NQRI",
        "colab": {
          "base_uri": "https://localhost:8080/"
        },
        "outputId": "e3c3d953-23d7-457d-e647-800d1540cee5"
      },
      "source": [
        "set(labels)"
      ],
      "execution_count": null,
      "outputs": [
        {
          "output_type": "execute_result",
          "data": {
            "text/plain": [
              "{0, 1, 2}"
            ]
          },
          "metadata": {
            "tags": []
          },
          "execution_count": 17
        }
      ]
    },
    {
      "cell_type": "markdown",
      "metadata": {
        "id": "CShVBUdEPZwV"
      },
      "source": [
        "Splitting the dataset into train and test set"
      ]
    },
    {
      "cell_type": "code",
      "metadata": {
        "id": "zuMnChiVNVaZ"
      },
      "source": [
        "from sklearn.model_selection import train_test_split\n",
        "\n",
        "test_size=0.25\n",
        "\n",
        "#Divide the dataset into Train and Test sets\n",
        "X_train, X_test, y_train, y_test = train_test_split(params,labels, test_size=test_size, random_state = 0) "
      ],
      "execution_count": null,
      "outputs": []
    },
    {
      "cell_type": "markdown",
      "metadata": {
        "id": "bQt5DjYWPdiJ"
      },
      "source": [
        "Applying normalization on the parameters in the dataset"
      ]
    },
    {
      "cell_type": "code",
      "metadata": {
        "id": "Jj4Jm1wxNxa5"
      },
      "source": [
        "from sklearn.preprocessing import StandardScaler\n",
        "\n",
        "sc=StandardScaler()\n",
        "\n",
        "X_train=sc.fit_transform(X_train)\n",
        "X_test=sc.fit_transform(X_test)"
      ],
      "execution_count": null,
      "outputs": []
    },
    {
      "cell_type": "code",
      "metadata": {
        "id": "bBX0LHUUOJ2W",
        "colab": {
          "base_uri": "https://localhost:8080/"
        },
        "outputId": "08cbfd41-3f28-498b-8f3c-861469081c77"
      },
      "source": [
        "print(X_train[:3])\n",
        "print(X_test[:3])"
      ],
      "execution_count": null,
      "outputs": [
        {
          "output_type": "stream",
          "text": [
            "[[ 0.01543995 -0.11925475  0.22512685  0.35638175]\n",
            " [-0.09984503 -1.04039491  0.11355956 -0.02864805]\n",
            " [ 1.05300481 -0.11925475  0.95031423  1.12644135]]\n",
            "[[ 0.12564197 -0.6117992   0.88098019  1.81979323]\n",
            " [ 0.42404164 -2.0207913   0.21386113 -0.1846167 ]\n",
            " [-0.32195754  2.67584903 -1.36296573 -1.32999381]]\n"
          ],
          "name": "stdout"
        }
      ]
    },
    {
      "cell_type": "markdown",
      "metadata": {
        "id": "bpNIs2sEPijP"
      },
      "source": [
        "Applying Naive-Bayes classfication model on the ML task"
      ]
    },
    {
      "cell_type": "code",
      "metadata": {
        "id": "Ey2qhtpkOPas"
      },
      "source": [
        "# import Naive-Bayes library\n",
        "from sklearn.naive_bayes import GaussianNB\n",
        "\n",
        "model=GaussianNB()\n",
        "\n",
        "model.fit(X_train,y_train)\n",
        "\n",
        "y_pred=model.predict(X_test)"
      ],
      "execution_count": null,
      "outputs": []
    },
    {
      "cell_type": "markdown",
      "metadata": {
        "id": "MmQrAXv2Pqt-"
      },
      "source": [
        "Prediction and metrics analysis"
      ]
    },
    {
      "cell_type": "code",
      "metadata": {
        "id": "gIL95KviOhp0",
        "colab": {
          "base_uri": "https://localhost:8080/"
        },
        "outputId": "be45d368-53b0-4f15-b9d4-4e37ac8dd594"
      },
      "source": [
        "#Calculating the Accuracy of the predictions\n",
        "from sklearn import metrics\n",
        "print(\"Prediction Accuracy = \", metrics.accuracy_score(y_test, y_pred))"
      ],
      "execution_count": null,
      "outputs": [
        {
          "output_type": "stream",
          "text": [
            "Prediction Accuracy =  0.868421052631579\n"
          ],
          "name": "stdout"
        }
      ]
    }
  ]
}