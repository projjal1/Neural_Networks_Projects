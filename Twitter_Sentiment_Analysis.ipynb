{
  "nbformat": 4,
  "nbformat_minor": 0,
  "metadata": {
    "colab": {
      "name": "Twitter Sentiment Analysis.ipynb",
      "provenance": [],
      "collapsed_sections": [],
      "authorship_tag": "ABX9TyPI19V0haxmdWnKMaec4/yJ"
    },
    "kernelspec": {
      "name": "python3",
      "display_name": "Python 3"
    },
    "accelerator": "GPU"
  },
  "cells": [
    {
      "cell_type": "code",
      "metadata": {
        "id": "RlEQlmOb8T3Y",
        "colab_type": "code",
        "colab": {
          "base_uri": "https://localhost:8080/",
          "height": 726
        },
        "outputId": "a1d6a2e7-dfa1-45d0-a42c-4801b5029273"
      },
      "source": [
        "%pip install tensorflow-gpu"
      ],
      "execution_count": null,
      "outputs": [
        {
          "output_type": "stream",
          "text": [
            "Collecting tensorflow-gpu\n",
            "\u001b[?25l  Downloading https://files.pythonhosted.org/packages/31/bf/c28971266ca854a64f4b26f07c4112ddd61f30b4d1f18108b954a746f8ea/tensorflow_gpu-2.2.0-cp36-cp36m-manylinux2010_x86_64.whl (516.2MB)\n",
            "\u001b[K     |████████████████████████████████| 516.2MB 32kB/s \n",
            "\u001b[?25hRequirement already satisfied: h5py<2.11.0,>=2.10.0 in /usr/local/lib/python3.6/dist-packages (from tensorflow-gpu) (2.10.0)\n",
            "Requirement already satisfied: grpcio>=1.8.6 in /usr/local/lib/python3.6/dist-packages (from tensorflow-gpu) (1.29.0)\n",
            "Requirement already satisfied: wheel>=0.26; python_version >= \"3\" in /usr/local/lib/python3.6/dist-packages (from tensorflow-gpu) (0.34.2)\n",
            "Requirement already satisfied: absl-py>=0.7.0 in /usr/local/lib/python3.6/dist-packages (from tensorflow-gpu) (0.9.0)\n",
            "Requirement already satisfied: keras-preprocessing>=1.1.0 in /usr/local/lib/python3.6/dist-packages (from tensorflow-gpu) (1.1.2)\n",
            "Requirement already satisfied: numpy<2.0,>=1.16.0 in /usr/local/lib/python3.6/dist-packages (from tensorflow-gpu) (1.18.5)\n",
            "Requirement already satisfied: protobuf>=3.8.0 in /usr/local/lib/python3.6/dist-packages (from tensorflow-gpu) (3.10.0)\n",
            "Requirement already satisfied: google-pasta>=0.1.8 in /usr/local/lib/python3.6/dist-packages (from tensorflow-gpu) (0.2.0)\n",
            "Requirement already satisfied: scipy==1.4.1; python_version >= \"3\" in /usr/local/lib/python3.6/dist-packages (from tensorflow-gpu) (1.4.1)\n",
            "Requirement already satisfied: tensorboard<2.3.0,>=2.2.0 in /usr/local/lib/python3.6/dist-packages (from tensorflow-gpu) (2.2.2)\n",
            "Requirement already satisfied: tensorflow-estimator<2.3.0,>=2.2.0 in /usr/local/lib/python3.6/dist-packages (from tensorflow-gpu) (2.2.0)\n",
            "Requirement already satisfied: termcolor>=1.1.0 in /usr/local/lib/python3.6/dist-packages (from tensorflow-gpu) (1.1.0)\n",
            "Requirement already satisfied: wrapt>=1.11.1 in /usr/local/lib/python3.6/dist-packages (from tensorflow-gpu) (1.12.1)\n",
            "Requirement already satisfied: gast==0.3.3 in /usr/local/lib/python3.6/dist-packages (from tensorflow-gpu) (0.3.3)\n",
            "Requirement already satisfied: six>=1.12.0 in /usr/local/lib/python3.6/dist-packages (from tensorflow-gpu) (1.12.0)\n",
            "Requirement already satisfied: opt-einsum>=2.3.2 in /usr/local/lib/python3.6/dist-packages (from tensorflow-gpu) (3.2.1)\n",
            "Requirement already satisfied: astunparse==1.6.3 in /usr/local/lib/python3.6/dist-packages (from tensorflow-gpu) (1.6.3)\n",
            "Requirement already satisfied: setuptools in /usr/local/lib/python3.6/dist-packages (from protobuf>=3.8.0->tensorflow-gpu) (47.3.1)\n",
            "Requirement already satisfied: tensorboard-plugin-wit>=1.6.0 in /usr/local/lib/python3.6/dist-packages (from tensorboard<2.3.0,>=2.2.0->tensorflow-gpu) (1.6.0.post3)\n",
            "Requirement already satisfied: markdown>=2.6.8 in /usr/local/lib/python3.6/dist-packages (from tensorboard<2.3.0,>=2.2.0->tensorflow-gpu) (3.2.2)\n",
            "Requirement already satisfied: google-auth-oauthlib<0.5,>=0.4.1 in /usr/local/lib/python3.6/dist-packages (from tensorboard<2.3.0,>=2.2.0->tensorflow-gpu) (0.4.1)\n",
            "Requirement already satisfied: werkzeug>=0.11.15 in /usr/local/lib/python3.6/dist-packages (from tensorboard<2.3.0,>=2.2.0->tensorflow-gpu) (1.0.1)\n",
            "Requirement already satisfied: google-auth<2,>=1.6.3 in /usr/local/lib/python3.6/dist-packages (from tensorboard<2.3.0,>=2.2.0->tensorflow-gpu) (1.17.2)\n",
            "Requirement already satisfied: requests<3,>=2.21.0 in /usr/local/lib/python3.6/dist-packages (from tensorboard<2.3.0,>=2.2.0->tensorflow-gpu) (2.23.0)\n",
            "Requirement already satisfied: importlib-metadata; python_version < \"3.8\" in /usr/local/lib/python3.6/dist-packages (from markdown>=2.6.8->tensorboard<2.3.0,>=2.2.0->tensorflow-gpu) (1.6.1)\n",
            "Requirement already satisfied: requests-oauthlib>=0.7.0 in /usr/local/lib/python3.6/dist-packages (from google-auth-oauthlib<0.5,>=0.4.1->tensorboard<2.3.0,>=2.2.0->tensorflow-gpu) (1.3.0)\n",
            "Requirement already satisfied: cachetools<5.0,>=2.0.0 in /usr/local/lib/python3.6/dist-packages (from google-auth<2,>=1.6.3->tensorboard<2.3.0,>=2.2.0->tensorflow-gpu) (4.1.0)\n",
            "Requirement already satisfied: pyasn1-modules>=0.2.1 in /usr/local/lib/python3.6/dist-packages (from google-auth<2,>=1.6.3->tensorboard<2.3.0,>=2.2.0->tensorflow-gpu) (0.2.8)\n",
            "Requirement already satisfied: rsa<5,>=3.1.4; python_version >= \"3\" in /usr/local/lib/python3.6/dist-packages (from google-auth<2,>=1.6.3->tensorboard<2.3.0,>=2.2.0->tensorflow-gpu) (4.6)\n",
            "Requirement already satisfied: urllib3!=1.25.0,!=1.25.1,<1.26,>=1.21.1 in /usr/local/lib/python3.6/dist-packages (from requests<3,>=2.21.0->tensorboard<2.3.0,>=2.2.0->tensorflow-gpu) (1.24.3)\n",
            "Requirement already satisfied: chardet<4,>=3.0.2 in /usr/local/lib/python3.6/dist-packages (from requests<3,>=2.21.0->tensorboard<2.3.0,>=2.2.0->tensorflow-gpu) (3.0.4)\n",
            "Requirement already satisfied: idna<3,>=2.5 in /usr/local/lib/python3.6/dist-packages (from requests<3,>=2.21.0->tensorboard<2.3.0,>=2.2.0->tensorflow-gpu) (2.9)\n",
            "Requirement already satisfied: certifi>=2017.4.17 in /usr/local/lib/python3.6/dist-packages (from requests<3,>=2.21.0->tensorboard<2.3.0,>=2.2.0->tensorflow-gpu) (2020.4.5.2)\n",
            "Requirement already satisfied: zipp>=0.5 in /usr/local/lib/python3.6/dist-packages (from importlib-metadata; python_version < \"3.8\"->markdown>=2.6.8->tensorboard<2.3.0,>=2.2.0->tensorflow-gpu) (3.1.0)\n",
            "Requirement already satisfied: oauthlib>=3.0.0 in /usr/local/lib/python3.6/dist-packages (from requests-oauthlib>=0.7.0->google-auth-oauthlib<0.5,>=0.4.1->tensorboard<2.3.0,>=2.2.0->tensorflow-gpu) (3.1.0)\n",
            "Requirement already satisfied: pyasn1<0.5.0,>=0.4.6 in /usr/local/lib/python3.6/dist-packages (from pyasn1-modules>=0.2.1->google-auth<2,>=1.6.3->tensorboard<2.3.0,>=2.2.0->tensorflow-gpu) (0.4.8)\n",
            "Installing collected packages: tensorflow-gpu\n",
            "Successfully installed tensorflow-gpu-2.2.0\n"
          ],
          "name": "stdout"
        }
      ]
    },
    {
      "cell_type": "code",
      "metadata": {
        "id": "fOupUOtz8jiW",
        "colab_type": "code",
        "colab": {}
      },
      "source": [
        "import tensorflow as tf\n",
        "import pandas as pd\n",
        "import numpy as np"
      ],
      "execution_count": null,
      "outputs": []
    },
    {
      "cell_type": "code",
      "metadata": {
        "id": "g3Cv3O3c8qlE",
        "colab_type": "code",
        "colab": {
          "base_uri": "https://localhost:8080/",
          "height": 50
        },
        "outputId": "fc07ae35-e465-440e-f56e-aba328cf8316"
      },
      "source": [
        "url='https://raw.githubusercontent.com/projjal1/datasets/master/twitter_unprocessed_sentiment.csv'\n",
        "file=tf.keras.utils.get_file('twitter_unprocessed_sentiment.csv',url)"
      ],
      "execution_count": null,
      "outputs": [
        {
          "output_type": "stream",
          "text": [
            "Downloading data from https://raw.githubusercontent.com/projjal1/datasets/master/twitter_unprocessed_sentiment.csv\n",
            "81526784/81523245 [==============================] - 0s 0us/step\n"
          ],
          "name": "stdout"
        }
      ]
    },
    {
      "cell_type": "code",
      "metadata": {
        "id": "sB7Q0Dih8yrr",
        "colab_type": "code",
        "colab": {}
      },
      "source": [
        "df=pd.read_csv(file,encoding='ISO-8859-1')"
      ],
      "execution_count": null,
      "outputs": []
    },
    {
      "cell_type": "code",
      "metadata": {
        "id": "2G2qFF3S9kLb",
        "colab_type": "code",
        "colab": {
          "base_uri": "https://localhost:8080/",
          "height": 195
        },
        "outputId": "709cb867-44d2-4f6c-f623-48e21f00d21e"
      },
      "source": [
        "df.head()"
      ],
      "execution_count": null,
      "outputs": [
        {
          "output_type": "execute_result",
          "data": {
            "text/html": [
              "<div>\n",
              "<style scoped>\n",
              "    .dataframe tbody tr th:only-of-type {\n",
              "        vertical-align: middle;\n",
              "    }\n",
              "\n",
              "    .dataframe tbody tr th {\n",
              "        vertical-align: top;\n",
              "    }\n",
              "\n",
              "    .dataframe thead th {\n",
              "        text-align: right;\n",
              "    }\n",
              "</style>\n",
              "<table border=\"1\" class=\"dataframe\">\n",
              "  <thead>\n",
              "    <tr style=\"text-align: right;\">\n",
              "      <th></th>\n",
              "      <th>review</th>\n",
              "      <th>content</th>\n",
              "    </tr>\n",
              "  </thead>\n",
              "  <tbody>\n",
              "    <tr>\n",
              "      <th>0</th>\n",
              "      <td>0</td>\n",
              "      <td>is upset that he can't update his Facebook by ...</td>\n",
              "    </tr>\n",
              "    <tr>\n",
              "      <th>1</th>\n",
              "      <td>0</td>\n",
              "      <td>@Kenichan I dived many times for the ball. Man...</td>\n",
              "    </tr>\n",
              "    <tr>\n",
              "      <th>2</th>\n",
              "      <td>0</td>\n",
              "      <td>my whole body feels itchy and like its on fire</td>\n",
              "    </tr>\n",
              "    <tr>\n",
              "      <th>3</th>\n",
              "      <td>0</td>\n",
              "      <td>@nationwideclass no, it's not behaving at all....</td>\n",
              "    </tr>\n",
              "    <tr>\n",
              "      <th>4</th>\n",
              "      <td>0</td>\n",
              "      <td>@Kwesidei not the whole crew</td>\n",
              "    </tr>\n",
              "  </tbody>\n",
              "</table>\n",
              "</div>"
            ],
            "text/plain": [
              "   review                                            content\n",
              "0       0  is upset that he can't update his Facebook by ...\n",
              "1       0  @Kenichan I dived many times for the ball. Man...\n",
              "2       0    my whole body feels itchy and like its on fire \n",
              "3       0  @nationwideclass no, it's not behaving at all....\n",
              "4       0                      @Kwesidei not the whole crew "
            ]
          },
          "metadata": {
            "tags": []
          },
          "execution_count": 6
        }
      ]
    },
    {
      "cell_type": "code",
      "metadata": {
        "id": "3sY0t-aRE9Sz",
        "colab_type": "code",
        "colab": {}
      },
      "source": [
        "from sklearn.utils import shuffle\n",
        "df = shuffle(df)"
      ],
      "execution_count": null,
      "outputs": []
    },
    {
      "cell_type": "code",
      "metadata": {
        "id": "Gdv5Ug1XFjF-",
        "colab_type": "code",
        "colab": {
          "base_uri": "https://localhost:8080/",
          "height": 195
        },
        "outputId": "aad7a3c3-9a8d-46f5-a296-b36dd576fc4f"
      },
      "source": [
        "df.head()"
      ],
      "execution_count": null,
      "outputs": [
        {
          "output_type": "execute_result",
          "data": {
            "text/html": [
              "<div>\n",
              "<style scoped>\n",
              "    .dataframe tbody tr th:only-of-type {\n",
              "        vertical-align: middle;\n",
              "    }\n",
              "\n",
              "    .dataframe tbody tr th {\n",
              "        vertical-align: top;\n",
              "    }\n",
              "\n",
              "    .dataframe thead th {\n",
              "        text-align: right;\n",
              "    }\n",
              "</style>\n",
              "<table border=\"1\" class=\"dataframe\">\n",
              "  <thead>\n",
              "    <tr style=\"text-align: right;\">\n",
              "      <th></th>\n",
              "      <th>review</th>\n",
              "      <th>content</th>\n",
              "    </tr>\n",
              "  </thead>\n",
              "  <tbody>\n",
              "    <tr>\n",
              "      <th>583457</th>\n",
              "      <td>0</td>\n",
              "      <td>@Pizard actually i can't.   that's only on the...</td>\n",
              "    </tr>\n",
              "    <tr>\n",
              "      <th>369345</th>\n",
              "      <td>0</td>\n",
              "      <td>Boo for being sick and having SAT tomorrow.</td>\n",
              "    </tr>\n",
              "    <tr>\n",
              "      <th>613941</th>\n",
              "      <td>0</td>\n",
              "      <td>on my dads mini laptop coz my parents took my ...</td>\n",
              "    </tr>\n",
              "    <tr>\n",
              "      <th>993918</th>\n",
              "      <td>4</td>\n",
              "      <td>going to see a man about a #chainsaw. Guess i ...</td>\n",
              "    </tr>\n",
              "    <tr>\n",
              "      <th>141808</th>\n",
              "      <td>0</td>\n",
              "      <td>Boo, I got paid $650ish and down to $300 alrea...</td>\n",
              "    </tr>\n",
              "  </tbody>\n",
              "</table>\n",
              "</div>"
            ],
            "text/plain": [
              "        review                                            content\n",
              "583457       0  @Pizard actually i can't.   that's only on the...\n",
              "369345       0       Boo for being sick and having SAT tomorrow. \n",
              "613941       0  on my dads mini laptop coz my parents took my ...\n",
              "993918       4  going to see a man about a #chainsaw. Guess i ...\n",
              "141808       0  Boo, I got paid $650ish and down to $300 alrea..."
            ]
          },
          "metadata": {
            "tags": []
          },
          "execution_count": 8
        }
      ]
    },
    {
      "cell_type": "code",
      "metadata": {
        "id": "_B2qRFpT_N27",
        "colab_type": "code",
        "colab": {}
      },
      "source": [
        "#Splitting dataset and creating train and test models \n",
        "label,content=df['review'],df['content']"
      ],
      "execution_count": null,
      "outputs": []
    },
    {
      "cell_type": "code",
      "metadata": {
        "id": "NlrSNNU7aoM2",
        "colab_type": "code",
        "colab": {}
      },
      "source": [
        "#Splitting for test and train \n",
        "train_label,train_content=label[:750000],content[:750000]\n",
        "test_label,test_content=label[750000:],content[750000:]"
      ],
      "execution_count": null,
      "outputs": []
    },
    {
      "cell_type": "code",
      "metadata": {
        "id": "8Xq7CFtHGBvz",
        "colab_type": "code",
        "colab": {}
      },
      "source": [
        "#Creating class labels for dataset\n",
        "class_name={0:'negative',2:'neutral',4:'postive'}"
      ],
      "execution_count": null,
      "outputs": []
    },
    {
      "cell_type": "code",
      "metadata": {
        "id": "JE03b_GB_KGU",
        "colab_type": "code",
        "colab": {}
      },
      "source": [
        "train_dataset = tf.data.Dataset.from_tensor_slices((train_content.values, train_label.values))"
      ],
      "execution_count": null,
      "outputs": []
    },
    {
      "cell_type": "code",
      "metadata": {
        "id": "VBG64v39a9LN",
        "colab_type": "code",
        "colab": {}
      },
      "source": [
        "test_dataset = tf.data.Dataset.from_tensor_slices((test_content.values, test_label.values))"
      ],
      "execution_count": null,
      "outputs": []
    },
    {
      "cell_type": "code",
      "metadata": {
        "id": "_MyVV79yACz8",
        "colab_type": "code",
        "colab": {
          "base_uri": "https://localhost:8080/",
          "height": 101
        },
        "outputId": "dac0c1cd-b21b-4bbc-ab5e-031a156cc699"
      },
      "source": [
        "for feat, targ in train_dataset.take(5):\n",
        "  print ('Features: {}, Target: {}'.format(feat, targ))"
      ],
      "execution_count": null,
      "outputs": [
        {
          "output_type": "stream",
          "text": [
            "Features: b\"@Pizard actually i can't.   that's only on the new iphone 3GS\", Target: 0\n",
            "Features: b'Boo for being sick and having SAT tomorrow. ', Target: 0\n",
            "Features: b'on my dads mini laptop coz my parents took my phone off me  so excited for tomorrow night! Yeeey!', Target: 0\n",
            "Features: b'going to see a man about a #chainsaw. Guess i need now is a leather mask ', Target: 4\n",
            "Features: b\"Boo, I got paid $650ish and down to $300 already  stupid bills. Should be lower but wanted a lil fun money/bike crap (and Kiehl's)\", Target: 0\n"
          ],
          "name": "stdout"
        }
      ]
    },
    {
      "cell_type": "code",
      "metadata": {
        "id": "ieuBgInm9mfM",
        "colab_type": "code",
        "colab": {
          "base_uri": "https://localhost:8080/",
          "height": 218
        },
        "outputId": "656ef394-ba57-4bb6-e61a-241ccf40057b"
      },
      "source": [
        "train_examples_batch, train_labels_batch = next(iter(train_dataset.batch(10)))\n",
        "train_examples_batch"
      ],
      "execution_count": null,
      "outputs": [
        {
          "output_type": "execute_result",
          "data": {
            "text/plain": [
              "<tf.Tensor: shape=(10,), dtype=string, numpy=\n",
              "array([b\"@Pizard actually i can't.   that's only on the new iphone 3GS\",\n",
              "       b'Boo for being sick and having SAT tomorrow. ',\n",
              "       b'on my dads mini laptop coz my parents took my phone off me  so excited for tomorrow night! Yeeey!',\n",
              "       b'going to see a man about a #chainsaw. Guess i need now is a leather mask ',\n",
              "       b\"Boo, I got paid $650ish and down to $300 already  stupid bills. Should be lower but wanted a lil fun money/bike crap (and Kiehl's)\",\n",
              "       b'@mari_posa2 and last time I talked to natalie, she had a sinus infection!!! ',\n",
              "       b\"@draeme_saekyrFK Oh, very cool. Sounds like something I'd like. \",\n",
              "       b'bubble bath flowin..  late night soak just needa relax n clear my head... lata gzz',\n",
              "       b'is fighting flu  Just want to stay in bed.',\n",
              "       b\"just exchanged numbers with wee kee. I'm going to miss cao li and the way she say &quot;PAPA TEA&quot; instead of bubble tea. \"],\n",
              "      dtype=object)>"
            ]
          },
          "metadata": {
            "tags": []
          },
          "execution_count": 40
        }
      ]
    },
    {
      "cell_type": "code",
      "metadata": {
        "id": "efvF7rpw-fiE",
        "colab_type": "code",
        "colab": {
          "base_uri": "https://localhost:8080/",
          "height": 34
        },
        "outputId": "ca104285-171d-4964-9beb-7439f84ec7ac"
      },
      "source": [
        "train_labels_batch"
      ],
      "execution_count": null,
      "outputs": [
        {
          "output_type": "execute_result",
          "data": {
            "text/plain": [
              "<tf.Tensor: shape=(10,), dtype=int64, numpy=array([0, 0, 0, 4, 0, 0, 4, 4, 0, 0])>"
            ]
          },
          "metadata": {
            "tags": []
          },
          "execution_count": 41
        }
      ]
    },
    {
      "cell_type": "code",
      "metadata": {
        "id": "cndlulMLb83v",
        "colab_type": "code",
        "colab": {
          "base_uri": "https://localhost:8080/",
          "height": 252
        },
        "outputId": "7f88d754-a6b9-4872-d873-afae76a1bc9a"
      },
      "source": [
        "import tensorflow_hub as hub\n",
        "\n",
        "embedding = \"https://tfhub.dev/google/tf2-preview/gnews-swivel-20dim/1\"\n",
        "hub_layer = hub.KerasLayer(embedding, input_shape=[], \n",
        "                           dtype=tf.string, trainable=True)\n",
        "hub_layer(train_examples_batch[:3])"
      ],
      "execution_count": null,
      "outputs": [
        {
          "output_type": "execute_result",
          "data": {
            "text/plain": [
              "<tf.Tensor: shape=(3, 20), dtype=float32, numpy=\n",
              "array([[ 0.19016251, -0.98964953,  1.5253124 ,  1.0483664 , -1.6206441 ,\n",
              "        -0.98183864, -1.2060972 ,  0.05518226,  0.29017183, -0.07813416,\n",
              "        -0.83747274,  0.49501196,  0.3512097 ,  0.31149969, -0.2454101 ,\n",
              "        -0.04993708,  0.53949624, -0.400998  ,  0.07399794, -0.82735187],\n",
              "       [-0.00445754, -0.53738654, -0.10400346,  0.23639303, -0.34741572,\n",
              "        -0.757306  , -0.1814598 ,  0.47078183,  0.5264247 ,  0.5911486 ,\n",
              "        -0.41752082,  0.4177771 , -0.28806335,  0.3477816 , -1.5391304 ,\n",
              "         0.7494272 ,  0.9905668 , -0.7316129 , -0.37010494,  0.22215508],\n",
              "       [ 0.82026356, -1.7592599 ,  0.8069903 ,  0.45060226, -1.98169   ,\n",
              "        -0.41613427, -1.62783   ,  1.4294891 ,  1.0244524 ,  0.70324385,\n",
              "        -3.9638944 ,  2.0109196 , -0.27472472,  0.22872315, -2.2729747 ,\n",
              "         0.01729978,  2.2452245 , -1.7211179 , -1.5085258 , -0.4142752 ]],\n",
              "      dtype=float32)>"
            ]
          },
          "metadata": {
            "tags": []
          },
          "execution_count": 43
        }
      ]
    },
    {
      "cell_type": "code",
      "metadata": {
        "id": "kc9dPU5xdi66",
        "colab_type": "code",
        "colab": {
          "base_uri": "https://localhost:8080/",
          "height": 286
        },
        "outputId": "01b70789-060b-41d4-accd-ec394d03d6ee"
      },
      "source": [
        "model = tf.keras.Sequential()\n",
        "model.add(hub_layer),\n",
        "model.add(tf.keras.layers.Dense(16, activation='relu')),\n",
        "model.add(tf.keras.layers.Dense(16, activation='relu')),\n",
        "model.add(tf.keras.layers.Dense(1))\n",
        "\n",
        "model.summary()"
      ],
      "execution_count": null,
      "outputs": [
        {
          "output_type": "stream",
          "text": [
            "Model: \"sequential_2\"\n",
            "_________________________________________________________________\n",
            "Layer (type)                 Output Shape              Param #   \n",
            "=================================================================\n",
            "keras_layer_1 (KerasLayer)   (None, 20)                400020    \n",
            "_________________________________________________________________\n",
            "dense_4 (Dense)              (None, 16)                336       \n",
            "_________________________________________________________________\n",
            "dense_5 (Dense)              (None, 16)                272       \n",
            "_________________________________________________________________\n",
            "dense_6 (Dense)              (None, 1)                 17        \n",
            "=================================================================\n",
            "Total params: 400,645\n",
            "Trainable params: 400,645\n",
            "Non-trainable params: 0\n",
            "_________________________________________________________________\n"
          ],
          "name": "stdout"
        }
      ]
    },
    {
      "cell_type": "code",
      "metadata": {
        "id": "cq1JTzNFdqi3",
        "colab_type": "code",
        "colab": {}
      },
      "source": [
        "model.compile(optimizer='adam',\n",
        "              loss=tf.keras.losses.CategoricalCrossentropy(),\n",
        "              metrics=['accuracy'])"
      ],
      "execution_count": null,
      "outputs": []
    },
    {
      "cell_type": "code",
      "metadata": {
        "id": "vGklsuc6eDAV",
        "colab_type": "code",
        "colab": {
          "base_uri": "https://localhost:8080/",
          "height": 706
        },
        "outputId": "e2abf52d-6503-4a95-813f-c8c571b4c7a9"
      },
      "source": [
        "model.fit(train_dataset.shuffle(10000).batch(512), epochs=20)"
      ],
      "execution_count": null,
      "outputs": [
        {
          "output_type": "stream",
          "text": [
            "Epoch 1/20\n",
            "1465/1465 [==============================] - 10s 7ms/step - loss: 1.1311e-07 - accuracy: 0.5769\n",
            "Epoch 2/20\n",
            "1465/1465 [==============================] - 9s 6ms/step - loss: 1.1311e-07 - accuracy: 0.5769\n",
            "Epoch 3/20\n",
            "1465/1465 [==============================] - 10s 7ms/step - loss: 1.1311e-07 - accuracy: 0.5769\n",
            "Epoch 4/20\n",
            "1465/1465 [==============================] - 10s 6ms/step - loss: 1.1311e-07 - accuracy: 0.5769\n",
            "Epoch 5/20\n",
            "1465/1465 [==============================] - 9s 6ms/step - loss: 1.1311e-07 - accuracy: 0.5769\n",
            "Epoch 6/20\n",
            "1465/1465 [==============================] - 9s 6ms/step - loss: 1.1311e-07 - accuracy: 0.5769\n",
            "Epoch 7/20\n",
            "1465/1465 [==============================] - 9s 6ms/step - loss: 1.1311e-07 - accuracy: 0.5769\n",
            "Epoch 8/20\n",
            "1465/1465 [==============================] - 9s 6ms/step - loss: 1.1311e-07 - accuracy: 0.5769\n",
            "Epoch 9/20\n",
            "1465/1465 [==============================] - 9s 6ms/step - loss: 1.1311e-07 - accuracy: 0.5769\n",
            "Epoch 10/20\n",
            "1465/1465 [==============================] - 9s 6ms/step - loss: 1.1311e-07 - accuracy: 0.5769\n",
            "Epoch 11/20\n",
            "1465/1465 [==============================] - 9s 6ms/step - loss: 1.1311e-07 - accuracy: 0.5769\n",
            "Epoch 12/20\n",
            "1465/1465 [==============================] - 9s 6ms/step - loss: 1.1311e-07 - accuracy: 0.5769\n",
            "Epoch 13/20\n",
            "1465/1465 [==============================] - 9s 6ms/step - loss: 1.1311e-07 - accuracy: 0.5769\n",
            "Epoch 14/20\n",
            "1465/1465 [==============================] - 9s 6ms/step - loss: 1.1311e-07 - accuracy: 0.5769\n",
            "Epoch 15/20\n",
            "1465/1465 [==============================] - 9s 6ms/step - loss: 1.1311e-07 - accuracy: 0.5769\n",
            "Epoch 16/20\n",
            "1465/1465 [==============================] - 9s 6ms/step - loss: 1.1311e-07 - accuracy: 0.5769\n",
            "Epoch 17/20\n",
            "1465/1465 [==============================] - 9s 6ms/step - loss: 1.1311e-07 - accuracy: 0.5769\n",
            "Epoch 18/20\n",
            "1465/1465 [==============================] - 9s 6ms/step - loss: 1.1311e-07 - accuracy: 0.5769\n",
            "Epoch 19/20\n",
            "1465/1465 [==============================] - 9s 6ms/step - loss: 1.1311e-07 - accuracy: 0.5769\n",
            "Epoch 20/20\n",
            "1465/1465 [==============================] - 9s 6ms/step - loss: 1.1311e-07 - accuracy: 0.5769\n"
          ],
          "name": "stdout"
        },
        {
          "output_type": "execute_result",
          "data": {
            "text/plain": [
              "<tensorflow.python.keras.callbacks.History at 0x7f25133fb908>"
            ]
          },
          "metadata": {
            "tags": []
          },
          "execution_count": 57
        }
      ]
    },
    {
      "cell_type": "code",
      "metadata": {
        "id": "bTDh8j8-gJPF",
        "colab_type": "code",
        "colab": {
          "base_uri": "https://localhost:8080/",
          "height": 50
        },
        "outputId": "eb39b42e-0f5a-4bee-a8ff-549a08d895f7"
      },
      "source": [
        "model.evaluate(test_dataset.batch(512), verbose=2)"
      ],
      "execution_count": null,
      "outputs": [
        {
          "output_type": "stream",
          "text": [
            "584/584 - 3s - loss: 1.1287e-07 - accuracy: 0.5774\n"
          ],
          "name": "stdout"
        },
        {
          "output_type": "execute_result",
          "data": {
            "text/plain": [
              "[1.1287103518498043e-07, 0.5773825645446777]"
            ]
          },
          "metadata": {
            "tags": []
          },
          "execution_count": 58
        }
      ]
    }
  ]
}