{
  "nbformat": 4,
  "nbformat_minor": 0,
  "metadata": {
    "colab": {
      "name": "Kaggle Crop Classification.ipynb",
      "provenance": [],
      "collapsed_sections": [],
      "mount_file_id": "18ovV40AaamNERM9krMAi4zJOtIx_O4qr",
      "authorship_tag": "ABX9TyNSKKdab8H9jLXAH3ivI+Q2",
      "include_colab_link": true
    },
    "kernelspec": {
      "name": "python3",
      "display_name": "Python 3"
    },
    "accelerator": "GPU"
  },
  "cells": [
    {
      "cell_type": "markdown",
      "metadata": {
        "id": "view-in-github",
        "colab_type": "text"
      },
      "source": [
        "<a href=\"https://colab.research.google.com/github/projjal1/Neural_Networks_Projects/blob/master/Kaggle_Crop_Classification.ipynb\" target=\"_parent\"><img src=\"https://colab.research.google.com/assets/colab-badge.svg\" alt=\"Open In Colab\"/></a>"
      ]
    },
    {
      "cell_type": "markdown",
      "metadata": {
        "id": "HGglO5n5f9Ii",
        "colab_type": "text"
      },
      "source": [
        "# Kaggle Crop Classification Challenge ML Solution\n",
        "This challenge is hosted at https://www.kaggle.com/aman2000jaiswal/agriculture-crop-images/tasks?taskId=1367&campaign=804ac1b0-8545-4bd6-a1ab-8bb2f0262f71\n",
        "This challenge involves image classification of agriculture crops"
      ]
    },
    {
      "cell_type": "code",
      "metadata": {
        "id": "bzDE2CxTfC0T",
        "colab_type": "code",
        "colab": {}
      },
      "source": [
        "!pip install tensorflow-gpu"
      ],
      "execution_count": null,
      "outputs": []
    },
    {
      "cell_type": "code",
      "metadata": {
        "id": "9ystQgiZcEjO",
        "colab_type": "code",
        "colab": {}
      },
      "source": [
        "import os "
      ],
      "execution_count": 2,
      "outputs": []
    },
    {
      "cell_type": "markdown",
      "metadata": {
        "id": "LfeYe33af2FS",
        "colab_type": "text"
      },
      "source": [
        "Using Local Version of Kaggle Dataset stored in Google Drive"
      ]
    },
    {
      "cell_type": "code",
      "metadata": {
        "id": "7qhVzbZwcWHt",
        "colab_type": "code",
        "colab": {}
      },
      "source": [
        "path='drive/My Drive/Colab Notebooks/crop_img'\n",
        "train_path=os.path.join(path,'kag2')\n",
        "val_path=os.path.join(path,'crop_images')\n",
        "\n",
        "label=os.listdir(train_path)"
      ],
      "execution_count": 3,
      "outputs": []
    },
    {
      "cell_type": "markdown",
      "metadata": {
        "id": "pWgrJzjrgiu0",
        "colab_type": "text"
      },
      "source": [
        "Importing modules"
      ]
    },
    {
      "cell_type": "code",
      "metadata": {
        "id": "ALFgB8bpc_Hb",
        "colab_type": "code",
        "colab": {}
      },
      "source": [
        "from tensorflow.keras.models import Sequential\n",
        "from tensorflow.keras.layers import Dense, Conv2D, Flatten, Dropout, MaxPooling2D\n",
        "from tensorflow.keras.preprocessing.image import ImageDataGenerator\n",
        "\n",
        "import os\n",
        "import numpy as np\n",
        "import matplotlib.pyplot as plt"
      ],
      "execution_count": 4,
      "outputs": []
    },
    {
      "cell_type": "markdown",
      "metadata": {
        "id": "QOi9hJ0CglZ2",
        "colab_type": "text"
      },
      "source": [
        "Displaying information about objects contained in local dataset folders"
      ]
    },
    {
      "cell_type": "code",
      "metadata": {
        "id": "uxPwpE5rdA1H",
        "colab_type": "code",
        "colab": {}
      },
      "source": [
        "def disp_info(path):\n",
        "  count=0\n",
        "  for x in label:\n",
        "    no=len(os.listdir(os.path.join(path,x)))\n",
        "    print(\"No. of objects in\",x,\"is\",no)\n",
        "    count+=no\n",
        "\n",
        "  return count"
      ],
      "execution_count": 5,
      "outputs": []
    },
    {
      "cell_type": "markdown",
      "metadata": {
        "id": "iDA24BQqgsCl",
        "colab_type": "text"
      },
      "source": [
        "Detailed info"
      ]
    },
    {
      "cell_type": "code",
      "metadata": {
        "id": "6wgF1lg2dU6f",
        "colab_type": "code",
        "colab": {
          "base_uri": "https://localhost:8080/",
          "height": 218
        },
        "outputId": "01ad2b7c-3573-4014-ac0c-b03767c65107"
      },
      "source": [
        "print(\"Training data:\")\n",
        "total_train=disp_info(train_path)\n",
        "print(\"Validation data:\")\n",
        "total_val=disp_info(val_path)"
      ],
      "execution_count": 6,
      "outputs": [
        {
          "output_type": "stream",
          "text": [
            "Training data:\n",
            "No. of objects in maize is 159\n",
            "No. of objects in sugarcane is 159\n",
            "No. of objects in wheat is 162\n",
            "No. of objects in rice is 159\n",
            "No. of objects in jute is 159\n",
            "Validation data:\n",
            "No. of objects in maize is 40\n",
            "No. of objects in sugarcane is 40\n",
            "No. of objects in wheat is 41\n",
            "No. of objects in rice is 40\n",
            "No. of objects in jute is 40\n"
          ],
          "name": "stdout"
        }
      ]
    },
    {
      "cell_type": "markdown",
      "metadata": {
        "id": "bjqIs9IJdpNH",
        "colab_type": "text"
      },
      "source": [
        "# Hyperparameters\n",
        "Declaring batch size, epochs, image width and height"
      ]
    },
    {
      "cell_type": "code",
      "metadata": {
        "id": "MYZM99mNdl0n",
        "colab_type": "code",
        "colab": {}
      },
      "source": [
        "batch_size = 128\n",
        "epochs = 15\n",
        "IMG_HEIGHT = 150\n",
        "IMG_WIDTH = 150"
      ],
      "execution_count": 34,
      "outputs": []
    },
    {
      "cell_type": "markdown",
      "metadata": {
        "id": "JTVcO7TDgxW3",
        "colab_type": "text"
      },
      "source": [
        "#Data preparation\n",
        "Format the images into appropriately pre-processed floating point tensors before feeding to the network:\n",
        "\n",
        "Read images from the disk.\n",
        "Decode contents of these images and convert it into proper grid format as per their RGB content.\n",
        "Convert them into floating point tensors.\n",
        "Rescale the tensors from values between 0 and 255 to values between 0 and 1, as neural networks prefer to deal with small input values.\n",
        "Fortunately, all these tasks can be done with the ImageDataGenerator class provided by tf.keras. It can read images from disk and preprocess them into proper tensors. It will also set up generators that convert these images into batches of tensors—helpful when training the network."
      ]
    },
    {
      "cell_type": "code",
      "metadata": {
        "id": "aCqjscOgdx93",
        "colab_type": "code",
        "colab": {}
      },
      "source": [
        "train_image_generator = ImageDataGenerator(rescale=1./255) # Generator for our training data\n",
        "validation_image_generator = ImageDataGenerator(rescale=1./255) # Generator for our validation data"
      ],
      "execution_count": 35,
      "outputs": []
    },
    {
      "cell_type": "code",
      "metadata": {
        "id": "bwSiVVPBd0Wg",
        "colab_type": "code",
        "colab": {
          "base_uri": "https://localhost:8080/",
          "height": 34
        },
        "outputId": "7b9affaf-6d57-447a-88ab-9d246fb6a49d"
      },
      "source": [
        "train_data_gen = train_image_generator.flow_from_directory(batch_size=batch_size,\n",
        "                                                           directory=train_path,\n",
        "                                                           shuffle=True,\n",
        "                                                           target_size=(IMG_HEIGHT, IMG_WIDTH),\n",
        "                                                           class_mode='binary')"
      ],
      "execution_count": 36,
      "outputs": [
        {
          "output_type": "stream",
          "text": [
            "Found 798 images belonging to 5 classes.\n"
          ],
          "name": "stdout"
        }
      ]
    },
    {
      "cell_type": "code",
      "metadata": {
        "id": "xqFqWMcTd5Go",
        "colab_type": "code",
        "colab": {
          "base_uri": "https://localhost:8080/",
          "height": 34
        },
        "outputId": "d85245e4-1e64-4657-afe2-0dd9679016a6"
      },
      "source": [
        "val_data_gen = validation_image_generator.flow_from_directory(batch_size=batch_size,\n",
        "                                                              directory=val_path,\n",
        "                                                              target_size=(IMG_HEIGHT, IMG_WIDTH),\n",
        "                                                              class_mode='binary')"
      ],
      "execution_count": 37,
      "outputs": [
        {
          "output_type": "stream",
          "text": [
            "Found 201 images belonging to 5 classes.\n"
          ],
          "name": "stdout"
        }
      ]
    },
    {
      "cell_type": "markdown",
      "metadata": {
        "id": "VBXINdPrhATm",
        "colab_type": "text"
      },
      "source": [
        "#Create the model\n",
        "The model consists of three convolution blocks with a max pool layer in each of them. There's a fully connected layer with 512 units on top of it thatr is activated by a relu activation function. The model outputs class probabilities based on binary classification by the sigmoid activation function."
      ]
    },
    {
      "cell_type": "code",
      "metadata": {
        "id": "_V955rLYeHO-",
        "colab_type": "code",
        "colab": {}
      },
      "source": [
        "model = Sequential([\n",
        "    Conv2D(16, 3, padding='same', activation='relu', input_shape=(IMG_HEIGHT, IMG_WIDTH ,3)),\n",
        "    MaxPooling2D(),\n",
        "    Conv2D(32, 3, padding='same', activation='relu'),\n",
        "    MaxPooling2D(),\n",
        "    Conv2D(64, 3, padding='same', activation='relu'),\n",
        "    MaxPooling2D(),\n",
        "    Flatten(),\n",
        "    Dense(1024, activation='relu'),\n",
        "    Dense(5, activation='sigmoid')\n",
        "])"
      ],
      "execution_count": 64,
      "outputs": []
    },
    {
      "cell_type": "markdown",
      "metadata": {
        "id": "paNY-thOhDUN",
        "colab_type": "text"
      },
      "source": [
        "#Compile the model\n",
        "For this tutorial, choose the ADAM optimizer and sparse categorical cross entropy loss function, as its a multi-label classification. To view training and validation accuracy for each training epoch, pass the metrics argument."
      ]
    },
    {
      "cell_type": "code",
      "metadata": {
        "id": "IOLRFcloeb_X",
        "colab_type": "code",
        "colab": {}
      },
      "source": [
        "import tensorflow as tf\n",
        "\n",
        "model.compile(optimizer='adam',\n",
        "              loss=tf.keras.losses.SparseCategoricalCrossentropy(from_logits=True),\n",
        "              metrics=['accuracy'])"
      ],
      "execution_count": 65,
      "outputs": []
    },
    {
      "cell_type": "markdown",
      "metadata": {
        "id": "HlaV5C2EhFrm",
        "colab_type": "text"
      },
      "source": [
        "#Model summary\n",
        "View all the layers of the network using the model's summary method:"
      ]
    },
    {
      "cell_type": "code",
      "metadata": {
        "id": "hVFi4EBfeeXH",
        "colab_type": "code",
        "colab": {
          "base_uri": "https://localhost:8080/",
          "height": 454
        },
        "outputId": "78daedf9-6b6e-46bf-a91a-1d790f70858d"
      },
      "source": [
        "model.summary()"
      ],
      "execution_count": 66,
      "outputs": [
        {
          "output_type": "stream",
          "text": [
            "Model: \"sequential_7\"\n",
            "_________________________________________________________________\n",
            "Layer (type)                 Output Shape              Param #   \n",
            "=================================================================\n",
            "conv2d_21 (Conv2D)           (None, 150, 150, 16)      448       \n",
            "_________________________________________________________________\n",
            "max_pooling2d_21 (MaxPooling (None, 75, 75, 16)        0         \n",
            "_________________________________________________________________\n",
            "conv2d_22 (Conv2D)           (None, 75, 75, 32)        4640      \n",
            "_________________________________________________________________\n",
            "max_pooling2d_22 (MaxPooling (None, 37, 37, 32)        0         \n",
            "_________________________________________________________________\n",
            "conv2d_23 (Conv2D)           (None, 37, 37, 64)        18496     \n",
            "_________________________________________________________________\n",
            "max_pooling2d_23 (MaxPooling (None, 18, 18, 64)        0         \n",
            "_________________________________________________________________\n",
            "flatten_7 (Flatten)          (None, 20736)             0         \n",
            "_________________________________________________________________\n",
            "dense_14 (Dense)             (None, 1024)              21234688  \n",
            "_________________________________________________________________\n",
            "dense_15 (Dense)             (None, 5)                 5125      \n",
            "=================================================================\n",
            "Total params: 21,263,397\n",
            "Trainable params: 21,263,397\n",
            "Non-trainable params: 0\n",
            "_________________________________________________________________\n"
          ],
          "name": "stdout"
        }
      ]
    },
    {
      "cell_type": "markdown",
      "metadata": {
        "id": "wp4t_ZPehH0_",
        "colab_type": "text"
      },
      "source": [
        "#Train the model\n",
        "Use the fit_generator method of the ImageDataGenerator class to train the network."
      ]
    },
    {
      "cell_type": "code",
      "metadata": {
        "id": "ZMIu15XLefoW",
        "colab_type": "code",
        "colab": {
          "base_uri": "https://localhost:8080/",
          "height": 521
        },
        "outputId": "b97501fe-c461-4989-df18-c3557955a90c"
      },
      "source": [
        "history = model.fit_generator(\n",
        "    train_data_gen,\n",
        "    steps_per_epoch=total_train // batch_size,\n",
        "    epochs=epochs,\n",
        "    validation_data=val_data_gen,\n",
        "    validation_steps=total_val // batch_size\n",
        ")"
      ],
      "execution_count": 67,
      "outputs": [
        {
          "output_type": "stream",
          "text": [
            "Epoch 1/15\n",
            "6/6 [==============================] - 5s 787ms/step - loss: 1.6664 - accuracy: 0.1970 - val_loss: 1.6240 - val_accuracy: 0.2031\n",
            "Epoch 2/15\n",
            "6/6 [==============================] - 5s 768ms/step - loss: 1.5647 - accuracy: 0.2104 - val_loss: 1.5197 - val_accuracy: 0.3203\n",
            "Epoch 3/15\n",
            "6/6 [==============================] - 5s 874ms/step - loss: 1.4943 - accuracy: 0.4000 - val_loss: 1.4627 - val_accuracy: 0.4531\n",
            "Epoch 4/15\n",
            "6/6 [==============================] - 5s 761ms/step - loss: 1.4542 - accuracy: 0.4299 - val_loss: 1.4283 - val_accuracy: 0.4688\n",
            "Epoch 5/15\n",
            "6/6 [==============================] - 5s 780ms/step - loss: 1.4152 - accuracy: 0.4478 - val_loss: 1.3858 - val_accuracy: 0.4766\n",
            "Epoch 6/15\n",
            "6/6 [==============================] - 5s 772ms/step - loss: 1.3852 - accuracy: 0.4672 - val_loss: 1.3718 - val_accuracy: 0.4688\n",
            "Epoch 7/15\n",
            "6/6 [==============================] - 5s 768ms/step - loss: 1.3565 - accuracy: 0.4836 - val_loss: 1.3150 - val_accuracy: 0.5156\n",
            "Epoch 8/15\n",
            "6/6 [==============================] - 5s 773ms/step - loss: 1.3393 - accuracy: 0.5119 - val_loss: 1.3512 - val_accuracy: 0.5234\n",
            "Epoch 9/15\n",
            "6/6 [==============================] - 5s 778ms/step - loss: 1.3143 - accuracy: 0.5403 - val_loss: 1.2653 - val_accuracy: 0.5391\n",
            "Epoch 10/15\n",
            "6/6 [==============================] - 5s 762ms/step - loss: 1.3056 - accuracy: 0.5582 - val_loss: 1.2443 - val_accuracy: 0.6328\n",
            "Epoch 11/15\n",
            "6/6 [==============================] - 5s 821ms/step - loss: 1.2918 - accuracy: 0.5482 - val_loss: 1.2232 - val_accuracy: 0.6250\n",
            "Epoch 12/15\n",
            "6/6 [==============================] - 5s 883ms/step - loss: 1.3021 - accuracy: 0.5149 - val_loss: 1.2873 - val_accuracy: 0.5625\n",
            "Epoch 13/15\n",
            "6/6 [==============================] - 5s 829ms/step - loss: 1.2960 - accuracy: 0.5339 - val_loss: 1.2306 - val_accuracy: 0.6016\n",
            "Epoch 14/15\n",
            "6/6 [==============================] - 5s 825ms/step - loss: 1.2753 - accuracy: 0.5560 - val_loss: 1.1937 - val_accuracy: 0.6953\n",
            "Epoch 15/15\n",
            "6/6 [==============================] - 5s 769ms/step - loss: 1.2633 - accuracy: 0.5881 - val_loss: 1.2578 - val_accuracy: 0.5859\n"
          ],
          "name": "stdout"
        }
      ]
    },
    {
      "cell_type": "markdown",
      "metadata": {
        "id": "WkGugaShjFBb",
        "colab_type": "text"
      },
      "source": [
        "#Visualize training results\n",
        "Now visualize the results after training the network."
      ]
    },
    {
      "cell_type": "code",
      "metadata": {
        "id": "WyyQXVese9K_",
        "colab_type": "code",
        "colab": {
          "base_uri": "https://localhost:8080/",
          "height": 499
        },
        "outputId": "31b6e4db-a497-4718-b57c-d24cf090564f"
      },
      "source": [
        "acc = history.history['accuracy']\n",
        "val_acc = history.history['val_accuracy']\n",
        "\n",
        "loss = history.history['loss']\n",
        "val_loss = history.history['val_loss']\n",
        "\n",
        "epochs_range = range(epochs)\n",
        "\n",
        "plt.figure(figsize=(8, 8))\n",
        "plt.subplot(1, 2, 1)\n",
        "plt.plot(epochs_range, acc, label='Training Accuracy')\n",
        "plt.plot(epochs_range, val_acc, label='Validation Accuracy')\n",
        "plt.legend(loc='lower right')\n",
        "plt.title('Training and Validation Accuracy')\n",
        "\n",
        "plt.subplot(1, 2, 2)\n",
        "plt.plot(epochs_range, loss, label='Training Loss')\n",
        "plt.plot(epochs_range, val_loss, label='Validation Loss')\n",
        "plt.legend(loc='upper right')\n",
        "plt.title('Training and Validation Loss')\n",
        "plt.show()"
      ],
      "execution_count": 68,
      "outputs": [
        {
          "output_type": "display_data",
          "data": {
            "image/png": "[encoded data removed]",
            "text/plain": [
              "<Figure size 576x576 with 2 Axes>"
            ]
          },
          "metadata": {
            "tags": [],
            "needs_background": "light"
          }
        }
      ]
    },
    {
      "cell_type": "markdown",
      "metadata": {
        "id": "4ySZW6PBjIdl",
        "colab_type": "text"
      },
      "source": [
        "As you can see from the plots, training accuracy and validation accuracy are off by large margin and the model has achieved only around 70% accuracy on the validation set.\n",
        "\n",
        "Let's look at what went wrong and try to increase overall performance of the model."
      ]
    },
    {
      "cell_type": "markdown",
      "metadata": {
        "id": "4yv9NsKCpald",
        "colab_type": "text"
      },
      "source": [
        "#Put it all together\n",
        "Apply all the previous augmentations. Here, you applied rescale, 45 degree rotation, width shift, height shift, horizontal flip and zoom augmentation to the training images."
      ]
    },
    {
      "cell_type": "code",
      "metadata": {
        "id": "RWTGMrtvjCFg",
        "colab_type": "code",
        "colab": {}
      },
      "source": [
        "image_gen_train = ImageDataGenerator(\n",
        "                    rescale=1./255,\n",
        "                    rotation_range=45,\n",
        "                    width_shift_range=.15,\n",
        "                    height_shift_range=.15,\n",
        "                    horizontal_flip=True,\n",
        "                    zoom_range=0.5\n",
        "                    )"
      ],
      "execution_count": 69,
      "outputs": []
    },
    {
      "cell_type": "code",
      "metadata": {
        "id": "e1pRqzy2jOPu",
        "colab_type": "code",
        "colab": {
          "base_uri": "https://localhost:8080/",
          "height": 34
        },
        "outputId": "275d87c6-aef0-42c9-8f12-6deb6ec14784"
      },
      "source": [
        "train_data_gen = image_gen_train.flow_from_directory(batch_size=batch_size,\n",
        "                                                     directory=train_path,\n",
        "                                                     shuffle=True,\n",
        "                                                     target_size=(IMG_HEIGHT, IMG_WIDTH),\n",
        "                                                     class_mode='binary')"
      ],
      "execution_count": 70,
      "outputs": [
        {
          "output_type": "stream",
          "text": [
            "Found 798 images belonging to 5 classes.\n"
          ],
          "name": "stdout"
        }
      ]
    },
    {
      "cell_type": "code",
      "metadata": {
        "id": "92L8PUWfjRqV",
        "colab_type": "code",
        "colab": {}
      },
      "source": [
        "image_gen_val = ImageDataGenerator(rescale=1./255)"
      ],
      "execution_count": 71,
      "outputs": []
    },
    {
      "cell_type": "code",
      "metadata": {
        "id": "C0y3qFKbjTl-",
        "colab_type": "code",
        "colab": {
          "base_uri": "https://localhost:8080/",
          "height": 34
        },
        "outputId": "5ff95f7b-22a9-4e63-837d-48a8d4af63da"
      },
      "source": [
        "val_data_gen = image_gen_val.flow_from_directory(batch_size=batch_size,\n",
        "                                                 directory=val_path,\n",
        "                                                 target_size=(IMG_HEIGHT, IMG_WIDTH),\n",
        "                                                 class_mode='binary')"
      ],
      "execution_count": 72,
      "outputs": [
        {
          "output_type": "stream",
          "text": [
            "Found 201 images belonging to 5 classes.\n"
          ],
          "name": "stdout"
        }
      ]
    },
    {
      "cell_type": "markdown",
      "metadata": {
        "id": "HK5bT153pVK8",
        "colab_type": "text"
      },
      "source": [
        "#Dropout\n",
        "Another technique to reduce overfitting is to introduce dropout to the network. It is a form of regularization that forces the weights in the network to take only small values, which makes the distribution of weight values more regular and the network can reduce overfitting on small training examples. Dropout is one of the regularization technique used in this tutorial\n",
        "\n",
        "When you apply dropout to a layer it randomly drops out (set to zero) number of output units from the applied layer during the training process. Dropout takes a fractional number as its input value, in the form such as 0.1, 0.2, 0.4, etc. This means dropping out 10%, 20% or 40% of the output units randomly from the applied layer.\n",
        "\n",
        "When appling 0.1 dropout to a certain layer, it randomly kills 10% of the output units in each training epoch.\n",
        "\n",
        "Create a network architecture with this new dropout feature and apply it to different convolutions and fully-connected layers."
      ]
    },
    {
      "cell_type": "markdown",
      "metadata": {
        "id": "EYCs8aDopP9t",
        "colab_type": "text"
      },
      "source": [
        "#Creating a new network with Dropouts\n",
        "Here, you apply dropout to first and last max pool layers and to a fully connected layer that has 512 output units. 30% of the first and last max pool layer, and 10% of fully connected layer output units, are randomly set to zero during each training epoch."
      ]
    },
    {
      "cell_type": "code",
      "metadata": {
        "id": "IZcPygTmjWpV",
        "colab_type": "code",
        "colab": {}
      },
      "source": [
        "model_new = Sequential([\n",
        "    Conv2D(16, 3, padding='same', activation='relu', \n",
        "           input_shape=(IMG_HEIGHT, IMG_WIDTH ,3)),\n",
        "    MaxPooling2D(),\n",
        "    Dropout(0.3),\n",
        "    Conv2D(32, 3, padding='same', activation='relu'),\n",
        "    MaxPooling2D(),\n",
        "    Conv2D(64, 3, padding='same', activation='relu'),\n",
        "    MaxPooling2D(),\n",
        "    Dropout(0.3),\n",
        "    Flatten(),\n",
        "    Dense(512, activation='relu'),\n",
        "    Dropout(0.1),\n",
        "    Dense(5, activation='sigmoid')\n",
        "])"
      ],
      "execution_count": 73,
      "outputs": []
    },
    {
      "cell_type": "markdown",
      "metadata": {
        "id": "CKWepPihpH31",
        "colab_type": "text"
      },
      "source": [
        "#Compile the model\n",
        "After introducing dropouts to the network, compile the model and view the layers summary."
      ]
    },
    {
      "cell_type": "code",
      "metadata": {
        "id": "KwGsvsQZjdMW",
        "colab_type": "code",
        "colab": {
          "base_uri": "https://localhost:8080/",
          "height": 554
        },
        "outputId": "135fa710-091c-4b8a-d4cb-2f461864ed43"
      },
      "source": [
        "model_new.compile(optimizer='adam',\n",
        "              loss=tf.keras.losses.SparseCategoricalCrossentropy(from_logits=False),\n",
        "              metrics=['accuracy'])\n",
        "\n",
        "model_new.summary()"
      ],
      "execution_count": 74,
      "outputs": [
        {
          "output_type": "stream",
          "text": [
            "Model: \"sequential_8\"\n",
            "_________________________________________________________________\n",
            "Layer (type)                 Output Shape              Param #   \n",
            "=================================================================\n",
            "conv2d_24 (Conv2D)           (None, 150, 150, 16)      448       \n",
            "_________________________________________________________________\n",
            "max_pooling2d_24 (MaxPooling (None, 75, 75, 16)        0         \n",
            "_________________________________________________________________\n",
            "dropout_6 (Dropout)          (None, 75, 75, 16)        0         \n",
            "_________________________________________________________________\n",
            "conv2d_25 (Conv2D)           (None, 75, 75, 32)        4640      \n",
            "_________________________________________________________________\n",
            "max_pooling2d_25 (MaxPooling (None, 37, 37, 32)        0         \n",
            "_________________________________________________________________\n",
            "conv2d_26 (Conv2D)           (None, 37, 37, 64)        18496     \n",
            "_________________________________________________________________\n",
            "max_pooling2d_26 (MaxPooling (None, 18, 18, 64)        0         \n",
            "_________________________________________________________________\n",
            "dropout_7 (Dropout)          (None, 18, 18, 64)        0         \n",
            "_________________________________________________________________\n",
            "flatten_8 (Flatten)          (None, 20736)             0         \n",
            "_________________________________________________________________\n",
            "dense_16 (Dense)             (None, 512)               10617344  \n",
            "_________________________________________________________________\n",
            "dropout_8 (Dropout)          (None, 512)               0         \n",
            "_________________________________________________________________\n",
            "dense_17 (Dense)             (None, 5)                 2565      \n",
            "=================================================================\n",
            "Total params: 10,643,493\n",
            "Trainable params: 10,643,493\n",
            "Non-trainable params: 0\n",
            "_________________________________________________________________\n"
          ],
          "name": "stdout"
        }
      ]
    },
    {
      "cell_type": "markdown",
      "metadata": {
        "id": "zkS05dA1pGHl",
        "colab_type": "text"
      },
      "source": [
        "#Train the model\n",
        "After successfully introducing data augmentations to the training examples and adding dropouts to the network, train this new network:"
      ]
    },
    {
      "cell_type": "code",
      "metadata": {
        "id": "6NiGDpdPjmv2",
        "colab_type": "code",
        "colab": {
          "base_uri": "https://localhost:8080/",
          "height": 1000
        },
        "outputId": "2fedfc4f-9b41-4030-f06d-740de12be21a"
      },
      "source": [
        "history = model_new.fit_generator(\n",
        "    train_data_gen,\n",
        "    steps_per_epoch=total_train // batch_size,\n",
        "    epochs=40,\n",
        "    validation_data=val_data_gen,\n",
        "    validation_steps=total_val // batch_size\n",
        ")"
      ],
      "execution_count": 76,
      "outputs": [
        {
          "output_type": "stream",
          "text": [
            "Epoch 1/40\n",
            "6/6 [==============================] - 5s 761ms/step - loss: 0.8400 - accuracy: 0.6284 - val_loss: 0.8415 - val_accuracy: 0.6797\n",
            "Epoch 2/40\n",
            "6/6 [==============================] - 5s 778ms/step - loss: 0.8180 - accuracy: 0.6463 - val_loss: 0.7492 - val_accuracy: 0.6562\n",
            "Epoch 3/40\n",
            "6/6 [==============================] - 5s 783ms/step - loss: 0.8019 - accuracy: 0.6373 - val_loss: 0.6907 - val_accuracy: 0.7109\n",
            "Epoch 4/40\n",
            "6/6 [==============================] - 5s 765ms/step - loss: 0.7245 - accuracy: 0.7015 - val_loss: 0.7590 - val_accuracy: 0.7109\n",
            "Epoch 5/40\n",
            "6/6 [==============================] - 5s 766ms/step - loss: 0.7372 - accuracy: 0.7030 - val_loss: 0.7525 - val_accuracy: 0.6719\n",
            "Epoch 6/40\n",
            "6/6 [==============================] - 5s 778ms/step - loss: 0.7613 - accuracy: 0.6731 - val_loss: 0.6922 - val_accuracy: 0.7500\n",
            "Epoch 7/40\n",
            "6/6 [==============================] - 5s 768ms/step - loss: 0.7140 - accuracy: 0.6776 - val_loss: 0.7235 - val_accuracy: 0.6797\n",
            "Epoch 8/40\n",
            "6/6 [==============================] - 5s 817ms/step - loss: 0.6261 - accuracy: 0.7284 - val_loss: 0.6693 - val_accuracy: 0.7109\n",
            "Epoch 9/40\n",
            "6/6 [==============================] - 5s 796ms/step - loss: 0.6674 - accuracy: 0.7328 - val_loss: 0.7693 - val_accuracy: 0.7031\n",
            "Epoch 10/40\n",
            "6/6 [==============================] - 5s 781ms/step - loss: 0.5940 - accuracy: 0.7537 - val_loss: 0.5134 - val_accuracy: 0.7734\n",
            "Epoch 11/40\n",
            "6/6 [==============================] - 5s 768ms/step - loss: 0.6744 - accuracy: 0.7299 - val_loss: 0.8669 - val_accuracy: 0.7891\n",
            "Epoch 12/40\n",
            "6/6 [==============================] - 5s 765ms/step - loss: 0.5845 - accuracy: 0.7701 - val_loss: 0.4934 - val_accuracy: 0.8047\n",
            "Epoch 13/40\n",
            "6/6 [==============================] - 5s 776ms/step - loss: 0.5464 - accuracy: 0.7701 - val_loss: 0.5612 - val_accuracy: 0.7891\n",
            "Epoch 14/40\n",
            "6/6 [==============================] - 5s 880ms/step - loss: 0.7059 - accuracy: 0.7104 - val_loss: 0.7645 - val_accuracy: 0.7344\n",
            "Epoch 15/40\n",
            "6/6 [==============================] - 5s 767ms/step - loss: 0.6658 - accuracy: 0.7224 - val_loss: 0.5274 - val_accuracy: 0.8203\n",
            "Epoch 16/40\n",
            "6/6 [==============================] - 5s 892ms/step - loss: 0.6836 - accuracy: 0.7254 - val_loss: 0.6246 - val_accuracy: 0.7734\n",
            "Epoch 17/40\n",
            "6/6 [==============================] - 5s 781ms/step - loss: 0.6065 - accuracy: 0.7642 - val_loss: 0.6383 - val_accuracy: 0.7109\n",
            "Epoch 18/40\n",
            "6/6 [==============================] - 5s 887ms/step - loss: 0.5663 - accuracy: 0.7821 - val_loss: 0.3917 - val_accuracy: 0.8750\n",
            "Epoch 19/40\n",
            "6/6 [==============================] - 5s 774ms/step - loss: 0.4993 - accuracy: 0.7896 - val_loss: 0.4268 - val_accuracy: 0.8359\n",
            "Epoch 20/40\n",
            "6/6 [==============================] - 5s 766ms/step - loss: 0.4385 - accuracy: 0.8269 - val_loss: 0.3900 - val_accuracy: 0.8594\n",
            "Epoch 21/40\n",
            "6/6 [==============================] - 5s 757ms/step - loss: 0.5087 - accuracy: 0.8149 - val_loss: 0.4724 - val_accuracy: 0.8203\n",
            "Epoch 22/40\n",
            "6/6 [==============================] - 5s 880ms/step - loss: 0.6017 - accuracy: 0.7627 - val_loss: 0.4215 - val_accuracy: 0.8438\n",
            "Epoch 23/40\n",
            "6/6 [==============================] - 5s 760ms/step - loss: 0.5397 - accuracy: 0.7791 - val_loss: 0.4201 - val_accuracy: 0.8516\n",
            "Epoch 24/40\n",
            "6/6 [==============================] - 5s 772ms/step - loss: 0.4643 - accuracy: 0.8030 - val_loss: 0.4602 - val_accuracy: 0.8438\n",
            "Epoch 25/40\n",
            "6/6 [==============================] - 5s 765ms/step - loss: 0.4877 - accuracy: 0.8179 - val_loss: 0.4626 - val_accuracy: 0.8359\n",
            "Epoch 26/40\n",
            "6/6 [==============================] - 5s 827ms/step - loss: 0.4208 - accuracy: 0.8229 - val_loss: 0.2159 - val_accuracy: 0.9609\n",
            "Epoch 27/40\n",
            "6/6 [==============================] - 5s 766ms/step - loss: 0.4125 - accuracy: 0.8269 - val_loss: 0.4110 - val_accuracy: 0.8516\n",
            "Epoch 28/40\n",
            "6/6 [==============================] - 5s 767ms/step - loss: 0.3881 - accuracy: 0.8537 - val_loss: 0.3751 - val_accuracy: 0.8984\n",
            "Epoch 29/40\n",
            "6/6 [==============================] - 5s 760ms/step - loss: 0.4130 - accuracy: 0.8179 - val_loss: 0.2299 - val_accuracy: 0.9219\n",
            "Epoch 30/40\n",
            "6/6 [==============================] - 5s 838ms/step - loss: 0.4170 - accuracy: 0.8490 - val_loss: 0.2880 - val_accuracy: 0.8906\n",
            "Epoch 31/40\n",
            "6/6 [==============================] - 5s 775ms/step - loss: 0.3665 - accuracy: 0.8642 - val_loss: 0.2453 - val_accuracy: 0.9141\n",
            "Epoch 32/40\n",
            "6/6 [==============================] - 5s 768ms/step - loss: 0.3596 - accuracy: 0.8582 - val_loss: 0.3280 - val_accuracy: 0.9062\n",
            "Epoch 33/40\n",
            "6/6 [==============================] - 5s 785ms/step - loss: 0.3786 - accuracy: 0.8493 - val_loss: 0.2550 - val_accuracy: 0.8672\n",
            "Epoch 34/40\n",
            "6/6 [==============================] - 5s 774ms/step - loss: 0.3511 - accuracy: 0.8836 - val_loss: 0.2535 - val_accuracy: 0.9141\n",
            "Epoch 35/40\n",
            "6/6 [==============================] - 5s 776ms/step - loss: 0.3405 - accuracy: 0.8910 - val_loss: 0.1571 - val_accuracy: 0.9453\n",
            "Epoch 36/40\n",
            "6/6 [==============================] - 5s 820ms/step - loss: 0.3401 - accuracy: 0.8802 - val_loss: 0.1780 - val_accuracy: 0.9531\n",
            "Epoch 37/40\n",
            "6/6 [==============================] - 5s 780ms/step - loss: 0.3179 - accuracy: 0.8896 - val_loss: 0.2242 - val_accuracy: 0.9375\n",
            "Epoch 38/40\n",
            "6/6 [==============================] - 5s 753ms/step - loss: 0.2857 - accuracy: 0.8940 - val_loss: 0.1204 - val_accuracy: 0.9609\n",
            "Epoch 39/40\n",
            "6/6 [==============================] - 5s 784ms/step - loss: 0.2897 - accuracy: 0.8955 - val_loss: 0.3331 - val_accuracy: 0.8750\n",
            "Epoch 40/40\n",
            "6/6 [==============================] - 5s 760ms/step - loss: 0.2397 - accuracy: 0.9179 - val_loss: 0.2034 - val_accuracy: 0.9219\n"
          ],
          "name": "stdout"
        }
      ]
    },
    {
      "cell_type": "markdown",
      "metadata": {
        "id": "4JuKk5kVpA1S",
        "colab_type": "text"
      },
      "source": [
        "#Visualize the model\n",
        "Visualize the new model after training, you can see that there is significantly less overfitting than before. The accuracy should go up after training the model for more epochs."
      ]
    },
    {
      "cell_type": "code",
      "metadata": {
        "id": "IorDxgq3oTmP",
        "colab_type": "code",
        "colab": {
          "base_uri": "https://localhost:8080/",
          "height": 499
        },
        "outputId": "9f561471-2a7b-4ce1-8f60-0929c8674476"
      },
      "source": [
        "acc = history.history['accuracy']\n",
        "val_acc = history.history['val_accuracy']\n",
        "\n",
        "loss = history.history['loss']\n",
        "val_loss = history.history['val_loss']\n",
        "\n",
        "epochs_range = range(40)\n",
        "\n",
        "plt.figure(figsize=(8, 8))\n",
        "plt.subplot(1, 2, 1)\n",
        "plt.plot(epochs_range, acc, label='Training Accuracy')\n",
        "plt.plot(epochs_range, val_acc, label='Validation Accuracy')\n",
        "plt.legend(loc='lower right')\n",
        "plt.title('Training and Validation Accuracy')\n",
        "\n",
        "plt.subplot(1, 2, 2)\n",
        "plt.plot(epochs_range, loss, label='Training Loss')\n",
        "plt.plot(epochs_range, val_loss, label='Validation Loss')\n",
        "plt.legend(loc='upper right')\n",
        "plt.title('Training and Validation Loss')\n",
        "plt.show()"
      ],
      "execution_count": 78,
      "outputs": [
        {
          "output_type": "display_data",
          "data": {
            "image/png": "[encoded data removed]",
            "text/plain": [
              "<Figure size 576x576 with 2 Axes>"
            ]
          },
          "metadata": {
            "tags": [],
            "needs_background": "light"
          }
        }
      ]
    },
    {
      "cell_type": "markdown",
      "metadata": {
        "id": "jOl5772zqPKR",
        "colab_type": "text"
      },
      "source": [
        "Applying predictions on a set of images"
      ]
    },
    {
      "cell_type": "code",
      "metadata": {
        "id": "HN73zvKCqUNl",
        "colab_type": "code",
        "colab": {}
      },
      "source": [
        "import cv2"
      ],
      "execution_count": 79,
      "outputs": []
    },
    {
      "cell_type": "code",
      "metadata": {
        "id": "cmR6Fl5ip5We",
        "colab_type": "code",
        "colab": {}
      },
      "source": [
        "def predictions(dir_path):\n",
        "  imdata=cv2.imread(dir_path)\n",
        "  imdata=cv2.resize(imdata,(150,150))\n",
        "  im_tensor=np.asarray(imdata)\n",
        "  \n",
        "  im_tensor=tf.expand_dims(im_tensor,0)\n",
        "  print(labels[np.argmax(model.predict(im_tensor))])"
      ],
      "execution_count": 148,
      "outputs": []
    },
    {
      "cell_type": "code",
      "metadata": {
        "id": "UezDlywUtvsv",
        "colab_type": "code",
        "colab": {
          "base_uri": "https://localhost:8080/",
          "height": 34
        },
        "outputId": "66805745-98d2-49d8-9c36-61573f993559"
      },
      "source": [
        "#List of pics_paths\n",
        "path='drive/My Drive/Colab Notebooks/crop_img/prediction_imgs'\n",
        "os.listdir(path)"
      ],
      "execution_count": 152,
      "outputs": [
        {
          "output_type": "execute_result",
          "data": {
            "text/plain": [
              "['sugarcane.jpg', 'wheat.jpg', 'rice.jpg', 'jute.jpg', 'pic1.jpg', 'maize.jpg']"
            ]
          },
          "metadata": {
            "tags": []
          },
          "execution_count": 152
        }
      ]
    },
    {
      "cell_type": "code",
      "metadata": {
        "id": "hlBZeok50qJl",
        "colab_type": "code",
        "colab": {
          "base_uri": "https://localhost:8080/",
          "height": 34
        },
        "outputId": "f716697d-6a74-4bb7-b0ad-9d807a9620da"
      },
      "source": [
        "labels=list(train_data_gen.class_indices.keys())\n",
        "labels"
      ],
      "execution_count": 153,
      "outputs": [
        {
          "output_type": "execute_result",
          "data": {
            "text/plain": [
              "['jute', 'maize', 'rice', 'sugarcane', 'wheat']"
            ]
          },
          "metadata": {
            "tags": []
          },
          "execution_count": 153
        }
      ]
    },
    {
      "cell_type": "code",
      "metadata": {
        "id": "A7LKmAYAq-co",
        "colab_type": "code",
        "colab": {
          "base_uri": "https://localhost:8080/",
          "height": 118
        },
        "outputId": "6ffcb78f-bb67-4643-e9bf-6e065ebbb001"
      },
      "source": [
        "for each in os.listdir(path):\n",
        "  predictions(os.path.join(path,each))"
      ],
      "execution_count": 154,
      "outputs": [
        {
          "output_type": "stream",
          "text": [
            "sugarcane\n",
            "sugarcane\n",
            "maize\n",
            "jute\n",
            "wheat\n",
            "maize\n"
          ],
          "name": "stdout"
        }
      ]
    }
  ]
}