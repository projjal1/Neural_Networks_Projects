{
  "nbformat": 4,
  "nbformat_minor": 0,
  "metadata": {
    "colab": {
      "name": "NYSE-Stock-Prediction-RNN.ipynb",
      "provenance": [],
      "collapsed_sections": [],
      "authorship_tag": "ABX9TyPlSls7u4du9yDroJCL7MSw",
      "include_colab_link": true
    },
    "kernelspec": {
      "name": "python3",
      "display_name": "Python 3"
    },
    "accelerator": "GPU"
  },
  "cells": [
    {
      "cell_type": "markdown",
      "metadata": {
        "id": "view-in-github",
        "colab_type": "text"
      },
      "source": [
        "<a href=\"https://colab.research.google.com/github/projjal1/Neural_Networks_Projects/blob/master/NYSE_Stock_Prediction_RNN.ipynb\" target=\"_parent\"><img src=\"https://colab.research.google.com/assets/colab-badge.svg\" alt=\"Open In Colab\"/></a>"
      ]
    },
    {
      "cell_type": "markdown",
      "metadata": {
        "id": "d0lTr4CQZ7Kl"
      },
      "source": [
        "Working on Stock Price Prediction Dataset from NYSE.\n",
        "Dataset taken from https://www.kaggle.com/dgawlik/nyse"
      ]
    },
    {
      "cell_type": "code",
      "metadata": {
        "id": "Pb0wwbEIYAKV"
      },
      "source": [
        "#Import modules\n",
        "import numpy as np\n",
        "import pandas as pd\n",
        "import math\n",
        "import sklearn\n",
        "import sklearn.preprocessing\n",
        "import matplotlib.pyplot as plt\n",
        "import tensorflow as tf"
      ],
      "execution_count": null,
      "outputs": []
    },
    {
      "cell_type": "code",
      "metadata": {
        "colab": {
          "base_uri": "https://localhost:8080/"
        },
        "id": "-oD_iZMkZjft",
        "outputId": "cf71ad69-550d-4acc-857f-cc276dc1e416"
      },
      "source": [
        "#Unzip archive\n",
        "!unzip archive.zip"
      ],
      "execution_count": null,
      "outputs": [
        {
          "output_type": "stream",
          "text": [
            "Archive:  archive.zip\n",
            "replace fundamentals.csv? [y]es, [n]o, [A]ll, [N]one, [r]ename: n\n",
            "replace prices-split-adjusted.csv? [y]es, [n]o, [A]ll, [N]one, [r]ename: n\n",
            "replace prices.csv? [y]es, [n]o, [A]ll, [N]one, [r]ename: N\n"
          ],
          "name": "stdout"
        }
      ]
    },
    {
      "cell_type": "code",
      "metadata": {
        "id": "NUbj6zGca-0l"
      },
      "source": [
        "#Read the dataset\n",
        "dataset=pd.read_csv('prices-split-adjusted.csv',index_col = 0)"
      ],
      "execution_count": null,
      "outputs": []
    },
    {
      "cell_type": "code",
      "metadata": {
        "colab": {
          "base_uri": "https://localhost:8080/",
          "height": 194
        },
        "id": "pfz3Z1TGbR7N",
        "outputId": "eb69653e-335a-4f49-bc9e-a00f838bb0df"
      },
      "source": [
        "#A look at the dataset with 4 rows\n",
        "dataset.head(4)"
      ],
      "execution_count": null,
      "outputs": [
        {
          "output_type": "execute_result",
          "data": {
            "text/html": [
              "<div>\n",
              "<style scoped>\n",
              "    .dataframe tbody tr th:only-of-type {\n",
              "        vertical-align: middle;\n",
              "    }\n",
              "\n",
              "    .dataframe tbody tr th {\n",
              "        vertical-align: top;\n",
              "    }\n",
              "\n",
              "    .dataframe thead th {\n",
              "        text-align: right;\n",
              "    }\n",
              "</style>\n",
              "<table border=\"1\" class=\"dataframe\">\n",
              "  <thead>\n",
              "    <tr style=\"text-align: right;\">\n",
              "      <th></th>\n",
              "      <th>symbol</th>\n",
              "      <th>open</th>\n",
              "      <th>close</th>\n",
              "      <th>low</th>\n",
              "      <th>high</th>\n",
              "      <th>volume</th>\n",
              "    </tr>\n",
              "    <tr>\n",
              "      <th>date</th>\n",
              "      <th></th>\n",
              "      <th></th>\n",
              "      <th></th>\n",
              "      <th></th>\n",
              "      <th></th>\n",
              "      <th></th>\n",
              "    </tr>\n",
              "  </thead>\n",
              "  <tbody>\n",
              "    <tr>\n",
              "      <th>2016-01-05</th>\n",
              "      <td>WLTW</td>\n",
              "      <td>123.430000</td>\n",
              "      <td>125.839996</td>\n",
              "      <td>122.309998</td>\n",
              "      <td>126.250000</td>\n",
              "      <td>2163600.0</td>\n",
              "    </tr>\n",
              "    <tr>\n",
              "      <th>2016-01-06</th>\n",
              "      <td>WLTW</td>\n",
              "      <td>125.239998</td>\n",
              "      <td>119.980003</td>\n",
              "      <td>119.940002</td>\n",
              "      <td>125.540001</td>\n",
              "      <td>2386400.0</td>\n",
              "    </tr>\n",
              "    <tr>\n",
              "      <th>2016-01-07</th>\n",
              "      <td>WLTW</td>\n",
              "      <td>116.379997</td>\n",
              "      <td>114.949997</td>\n",
              "      <td>114.930000</td>\n",
              "      <td>119.739998</td>\n",
              "      <td>2489500.0</td>\n",
              "    </tr>\n",
              "    <tr>\n",
              "      <th>2016-01-08</th>\n",
              "      <td>WLTW</td>\n",
              "      <td>115.480003</td>\n",
              "      <td>116.620003</td>\n",
              "      <td>113.500000</td>\n",
              "      <td>117.440002</td>\n",
              "      <td>2006300.0</td>\n",
              "    </tr>\n",
              "  </tbody>\n",
              "</table>\n",
              "</div>"
            ],
            "text/plain": [
              "           symbol        open       close         low        high     volume\n",
              "date                                                                        \n",
              "2016-01-05   WLTW  123.430000  125.839996  122.309998  126.250000  2163600.0\n",
              "2016-01-06   WLTW  125.239998  119.980003  119.940002  125.540001  2386400.0\n",
              "2016-01-07   WLTW  116.379997  114.949997  114.930000  119.739998  2489500.0\n",
              "2016-01-08   WLTW  115.480003  116.620003  113.500000  117.440002  2006300.0"
            ]
          },
          "metadata": {
            "tags": []
          },
          "execution_count": 97
        }
      ]
    },
    {
      "cell_type": "code",
      "metadata": {
        "id": "PsbxA15ZlxB-"
      },
      "source": [
        "#Which Stock to work with\n",
        "interested_Stock='AAPL'"
      ],
      "execution_count": null,
      "outputs": []
    },
    {
      "cell_type": "code",
      "metadata": {
        "colab": {
          "base_uri": "https://localhost:8080/"
        },
        "id": "h1exu3d-bX8m",
        "outputId": "b3f4e855-cf0f-4cb1-d1f8-a4bce2eef979"
      },
      "source": [
        "#We are interested to look at AAPL stocks \n",
        "dataset=dataset[dataset.symbol==interested_Stock]\n",
        "dataset.count()"
      ],
      "execution_count": null,
      "outputs": [
        {
          "output_type": "execute_result",
          "data": {
            "text/plain": [
              "symbol    1762\n",
              "open      1762\n",
              "close     1762\n",
              "low       1762\n",
              "high      1762\n",
              "volume    1762\n",
              "dtype: int64"
            ]
          },
          "metadata": {
            "tags": []
          },
          "execution_count": 108
        }
      ]
    },
    {
      "cell_type": "code",
      "metadata": {
        "colab": {
          "base_uri": "https://localhost:8080/"
        },
        "id": "Ewp4IC9_cL_s",
        "outputId": "b1af9722-4656-497c-fad8-a14fd76d09dc"
      },
      "source": [
        "#Now let's drop symbol and volume columns\n",
        "dataset.drop(['symbol','volume'],axis=1,inplace=True)\n",
        "#Columns of dataset\n",
        "dataset.columns"
      ],
      "execution_count": null,
      "outputs": [
        {
          "output_type": "execute_result",
          "data": {
            "text/plain": [
              "Index(['open', 'close', 'low', 'high'], dtype='object')"
            ]
          },
          "metadata": {
            "tags": []
          },
          "execution_count": 109
        }
      ]
    },
    {
      "cell_type": "code",
      "metadata": {
        "colab": {
          "base_uri": "https://localhost:8080/"
        },
        "id": "zdZerArxc_6A",
        "outputId": "a05b4f7a-54ae-49e6-87b3-72457f20e189"
      },
      "source": [
        "#Splitting into train,test values\n",
        "train=dataset.iloc[:1000].values\n",
        "test=dataset.iloc[1000:].values\n",
        "print(train.shape,test.shape)"
      ],
      "execution_count": null,
      "outputs": [
        {
          "output_type": "stream",
          "text": [
            "(1000, 4) (762, 4)\n"
          ],
          "name": "stdout"
        }
      ]
    },
    {
      "cell_type": "code",
      "metadata": {
        "id": "jrshGj5jcg0Z"
      },
      "source": [
        "#Now let's normalize the features\n",
        "scaler=sklearn.preprocessing.MinMaxScaler()\n",
        "train_scaled=scaler.fit_transform(train)\n",
        "test_scaled=scaler.fit_transform(test)"
      ],
      "execution_count": null,
      "outputs": []
    },
    {
      "cell_type": "code",
      "metadata": {
        "colab": {
          "base_uri": "https://localhost:8080/"
        },
        "id": "GhSSzMs5d20U",
        "outputId": "5143feaf-c56f-4467-f7b8-07fb427e199d"
      },
      "source": [
        "#Looking at scaled training set values\n",
        "train_scaled[:2]"
      ],
      "execution_count": null,
      "outputs": [
        {
          "output_type": "execute_result",
          "data": {
            "text/plain": [
              "array([[0.22035616, 0.24615579, 0.23315315, 0.22355939],\n",
              "       [0.23981239, 0.239754  , 0.24490821, 0.22336832]])"
            ]
          },
          "metadata": {
            "tags": []
          },
          "execution_count": 112
        }
      ]
    },
    {
      "cell_type": "code",
      "metadata": {
        "id": "f3velbVRd-_7"
      },
      "source": [
        "#We are going to look at seq_length history of records\n",
        "seq_length=20"
      ],
      "execution_count": null,
      "outputs": []
    },
    {
      "cell_type": "code",
      "metadata": {
        "colab": {
          "base_uri": "https://localhost:8080/"
        },
        "id": "6fA6kb1deXOU",
        "outputId": "4d85ebfc-2305-499b-a760-3ba0583baa3f"
      },
      "source": [
        "#Creating history of data to feed into RNN model\n",
        "trainX=[]\n",
        "trainY=[]\n",
        "\n",
        "for i in range(1000-seq_length):\n",
        "  trainX.append(train_scaled[i:i+seq_length])\n",
        "  #Taking target at close value of Stock\n",
        "  trainY.append(train_scaled[i][1])\n",
        "\n",
        "trainX=np.array(trainX)\n",
        "trainY=np.array(trainY).reshape((1000-seq_length,1))\n",
        "\n",
        "print(\"Shape of training data: \",trainX.shape)\n",
        "print(\"Shape of test data:\",trainY.shape)"
      ],
      "execution_count": null,
      "outputs": [
        {
          "output_type": "stream",
          "text": [
            "Shape of training data:  (980, 20, 4)\n",
            "Shape of test data: (980, 1)\n"
          ],
          "name": "stdout"
        }
      ]
    },
    {
      "cell_type": "code",
      "metadata": {
        "id": "JVcWVGYXgS4L"
      },
      "source": [
        "#Modules for building models \n",
        "from tensorflow.keras.models import Sequential\n",
        "from tensorflow.keras.layers import Dense\n",
        "from tensorflow.keras.layers import LSTM\n",
        "from tensorflow.keras.layers import Dropout"
      ],
      "execution_count": null,
      "outputs": []
    },
    {
      "cell_type": "code",
      "metadata": {
        "id": "sF79CThgfqHr"
      },
      "source": [
        "#build the LSTM model\n",
        "model = Sequential()\n",
        "model.add(LSTM(50, return_sequences = True))\n",
        "model.add(Dropout(0.2))\n",
        "model.add(LSTM(50, return_sequences = True))\n",
        "model.add(Dropout(0.2))\n",
        "model.add(LSTM(50, return_sequences = True))\n",
        "model.add(Dropout(0.2))\n",
        "model.add(LSTM(50))\n",
        "model.add(Dropout(0.2))\n",
        "model.add(Dense(1))"
      ],
      "execution_count": null,
      "outputs": []
    },
    {
      "cell_type": "code",
      "metadata": {
        "colab": {
          "base_uri": "https://localhost:8080/"
        },
        "id": "Uq6Wnf0kge57",
        "outputId": "c8cb6ed8-cf8c-4909-fe72-8fc987aaf86b"
      },
      "source": [
        "#compile the model\n",
        "model.compile(optimizer = 'adam', loss = 'mean_squared_error')\n",
        "\n",
        "# Fitting the RNN to the Training set\n",
        "model.fit(trainX, trainY, epochs=100, batch_size = 32)"
      ],
      "execution_count": null,
      "outputs": [
        {
          "output_type": "stream",
          "text": [
            "Epoch 1/100\n",
            "31/31 [==============================] - 6s 9ms/step - loss: 0.0904\n",
            "Epoch 2/100\n",
            "31/31 [==============================] - 0s 8ms/step - loss: 0.0075\n",
            "Epoch 3/100\n",
            "31/31 [==============================] - 0s 8ms/step - loss: 0.0045\n",
            "Epoch 4/100\n",
            "31/31 [==============================] - 0s 8ms/step - loss: 0.0048\n",
            "Epoch 5/100\n",
            "31/31 [==============================] - 0s 8ms/step - loss: 0.0050\n",
            "Epoch 6/100\n",
            "31/31 [==============================] - 0s 8ms/step - loss: 0.0045\n",
            "Epoch 7/100\n",
            "31/31 [==============================] - 0s 8ms/step - loss: 0.0039\n",
            "Epoch 8/100\n",
            "31/31 [==============================] - 0s 8ms/step - loss: 0.0043\n",
            "Epoch 9/100\n",
            "31/31 [==============================] - 0s 9ms/step - loss: 0.0045\n",
            "Epoch 10/100\n",
            "31/31 [==============================] - 0s 8ms/step - loss: 0.0054\n",
            "Epoch 11/100\n",
            "31/31 [==============================] - 0s 8ms/step - loss: 0.0037\n",
            "Epoch 12/100\n",
            "31/31 [==============================] - 0s 8ms/step - loss: 0.0024\n",
            "Epoch 13/100\n",
            "31/31 [==============================] - 0s 8ms/step - loss: 0.0035\n",
            "Epoch 14/100\n",
            "31/31 [==============================] - 0s 8ms/step - loss: 0.0030\n",
            "Epoch 15/100\n",
            "31/31 [==============================] - 0s 8ms/step - loss: 0.0032\n",
            "Epoch 16/100\n",
            "31/31 [==============================] - 0s 8ms/step - loss: 0.0041\n",
            "Epoch 17/100\n",
            "31/31 [==============================] - 0s 8ms/step - loss: 0.0036\n",
            "Epoch 18/100\n",
            "31/31 [==============================] - 0s 8ms/step - loss: 0.0028\n",
            "Epoch 19/100\n",
            "31/31 [==============================] - 0s 8ms/step - loss: 0.0036\n",
            "Epoch 20/100\n",
            "31/31 [==============================] - 0s 8ms/step - loss: 0.0028\n",
            "Epoch 21/100\n",
            "31/31 [==============================] - 0s 8ms/step - loss: 0.0028\n",
            "Epoch 22/100\n",
            "31/31 [==============================] - 0s 8ms/step - loss: 0.0038\n",
            "Epoch 23/100\n",
            "31/31 [==============================] - 0s 8ms/step - loss: 0.0024\n",
            "Epoch 24/100\n",
            "31/31 [==============================] - 0s 9ms/step - loss: 0.0028\n",
            "Epoch 25/100\n",
            "31/31 [==============================] - 0s 9ms/step - loss: 0.0028\n",
            "Epoch 26/100\n",
            "31/31 [==============================] - 0s 8ms/step - loss: 0.0025\n",
            "Epoch 27/100\n",
            "31/31 [==============================] - 0s 8ms/step - loss: 0.0024\n",
            "Epoch 28/100\n",
            "31/31 [==============================] - 0s 8ms/step - loss: 0.0035\n",
            "Epoch 29/100\n",
            "31/31 [==============================] - 0s 8ms/step - loss: 0.0028\n",
            "Epoch 30/100\n",
            "31/31 [==============================] - 0s 8ms/step - loss: 0.0024\n",
            "Epoch 31/100\n",
            "31/31 [==============================] - 0s 8ms/step - loss: 0.0025\n",
            "Epoch 32/100\n",
            "31/31 [==============================] - 0s 8ms/step - loss: 0.0027\n",
            "Epoch 33/100\n",
            "31/31 [==============================] - 0s 8ms/step - loss: 0.0025\n",
            "Epoch 34/100\n",
            "31/31 [==============================] - 0s 8ms/step - loss: 0.0029\n",
            "Epoch 35/100\n",
            "31/31 [==============================] - 0s 8ms/step - loss: 0.0022\n",
            "Epoch 36/100\n",
            "31/31 [==============================] - 0s 8ms/step - loss: 0.0022\n",
            "Epoch 37/100\n",
            "31/31 [==============================] - 0s 8ms/step - loss: 0.0027\n",
            "Epoch 38/100\n",
            "31/31 [==============================] - 0s 8ms/step - loss: 0.0025\n",
            "Epoch 39/100\n",
            "31/31 [==============================] - 0s 8ms/step - loss: 0.0018\n",
            "Epoch 40/100\n",
            "31/31 [==============================] - 0s 8ms/step - loss: 0.0023\n",
            "Epoch 41/100\n",
            "31/31 [==============================] - 0s 8ms/step - loss: 0.0022\n",
            "Epoch 42/100\n",
            "31/31 [==============================] - 0s 8ms/step - loss: 0.0022\n",
            "Epoch 43/100\n",
            "31/31 [==============================] - 0s 8ms/step - loss: 0.0025\n",
            "Epoch 44/100\n",
            "31/31 [==============================] - 0s 8ms/step - loss: 0.0023\n",
            "Epoch 45/100\n",
            "31/31 [==============================] - 0s 8ms/step - loss: 0.0024\n",
            "Epoch 46/100\n",
            "31/31 [==============================] - 0s 8ms/step - loss: 0.0022\n",
            "Epoch 47/100\n",
            "31/31 [==============================] - 0s 8ms/step - loss: 0.0020\n",
            "Epoch 48/100\n",
            "31/31 [==============================] - 0s 8ms/step - loss: 0.0031\n",
            "Epoch 49/100\n",
            "31/31 [==============================] - 0s 8ms/step - loss: 0.0018\n",
            "Epoch 50/100\n",
            "31/31 [==============================] - 0s 8ms/step - loss: 0.0025\n",
            "Epoch 51/100\n",
            "31/31 [==============================] - 0s 8ms/step - loss: 0.0021\n",
            "Epoch 52/100\n",
            "31/31 [==============================] - 0s 8ms/step - loss: 0.0024\n",
            "Epoch 53/100\n",
            "31/31 [==============================] - 0s 8ms/step - loss: 0.0017\n",
            "Epoch 54/100\n",
            "31/31 [==============================] - 0s 8ms/step - loss: 0.0028\n",
            "Epoch 55/100\n",
            "31/31 [==============================] - 0s 8ms/step - loss: 0.0019\n",
            "Epoch 56/100\n",
            "31/31 [==============================] - 0s 8ms/step - loss: 0.0019\n",
            "Epoch 57/100\n",
            "31/31 [==============================] - 0s 8ms/step - loss: 0.0022\n",
            "Epoch 58/100\n",
            "31/31 [==============================] - 0s 8ms/step - loss: 0.0016\n",
            "Epoch 59/100\n",
            "31/31 [==============================] - 0s 8ms/step - loss: 0.0017\n",
            "Epoch 60/100\n",
            "31/31 [==============================] - 0s 8ms/step - loss: 0.0019\n",
            "Epoch 61/100\n",
            "31/31 [==============================] - 0s 8ms/step - loss: 0.0021\n",
            "Epoch 62/100\n",
            "31/31 [==============================] - 0s 8ms/step - loss: 0.0018\n",
            "Epoch 63/100\n",
            "31/31 [==============================] - 0s 8ms/step - loss: 0.0016\n",
            "Epoch 64/100\n",
            "31/31 [==============================] - 0s 8ms/step - loss: 0.0018\n",
            "Epoch 65/100\n",
            "31/31 [==============================] - 0s 8ms/step - loss: 0.0016\n",
            "Epoch 66/100\n",
            "31/31 [==============================] - 0s 8ms/step - loss: 0.0016\n",
            "Epoch 67/100\n",
            "31/31 [==============================] - 0s 8ms/step - loss: 0.0018\n",
            "Epoch 68/100\n",
            "31/31 [==============================] - 0s 8ms/step - loss: 0.0016\n",
            "Epoch 69/100\n",
            "31/31 [==============================] - 0s 8ms/step - loss: 0.0016\n",
            "Epoch 70/100\n",
            "31/31 [==============================] - 0s 8ms/step - loss: 0.0018\n",
            "Epoch 71/100\n",
            "31/31 [==============================] - 0s 8ms/step - loss: 0.0014\n",
            "Epoch 72/100\n",
            "31/31 [==============================] - 0s 8ms/step - loss: 0.0016\n",
            "Epoch 73/100\n",
            "31/31 [==============================] - 0s 8ms/step - loss: 0.0016\n",
            "Epoch 74/100\n",
            "31/31 [==============================] - 0s 8ms/step - loss: 0.0016\n",
            "Epoch 75/100\n",
            "31/31 [==============================] - 0s 8ms/step - loss: 0.0015\n",
            "Epoch 76/100\n",
            "31/31 [==============================] - 0s 8ms/step - loss: 0.0020\n",
            "Epoch 77/100\n",
            "31/31 [==============================] - 0s 8ms/step - loss: 0.0015\n",
            "Epoch 78/100\n",
            "31/31 [==============================] - 0s 8ms/step - loss: 0.0014\n",
            "Epoch 79/100\n",
            "31/31 [==============================] - 0s 8ms/step - loss: 0.0013\n",
            "Epoch 80/100\n",
            "31/31 [==============================] - 0s 8ms/step - loss: 0.0016\n",
            "Epoch 81/100\n",
            "31/31 [==============================] - 0s 8ms/step - loss: 0.0013\n",
            "Epoch 82/100\n",
            "31/31 [==============================] - 0s 8ms/step - loss: 0.0015\n",
            "Epoch 83/100\n",
            "31/31 [==============================] - 0s 8ms/step - loss: 0.0015\n",
            "Epoch 84/100\n",
            "31/31 [==============================] - 0s 8ms/step - loss: 0.0013\n",
            "Epoch 85/100\n",
            "31/31 [==============================] - 0s 8ms/step - loss: 0.0013\n",
            "Epoch 86/100\n",
            "31/31 [==============================] - 0s 8ms/step - loss: 0.0014\n",
            "Epoch 87/100\n",
            "31/31 [==============================] - 0s 8ms/step - loss: 0.0015\n",
            "Epoch 88/100\n",
            "31/31 [==============================] - 0s 8ms/step - loss: 0.0016\n",
            "Epoch 89/100\n",
            "31/31 [==============================] - 0s 8ms/step - loss: 0.0014\n",
            "Epoch 90/100\n",
            "31/31 [==============================] - 0s 8ms/step - loss: 0.0014\n",
            "Epoch 91/100\n",
            "31/31 [==============================] - 0s 8ms/step - loss: 0.0015\n",
            "Epoch 92/100\n",
            "31/31 [==============================] - 0s 8ms/step - loss: 0.0015\n",
            "Epoch 93/100\n",
            "31/31 [==============================] - 0s 8ms/step - loss: 0.0012\n",
            "Epoch 94/100\n",
            "31/31 [==============================] - 0s 8ms/step - loss: 0.0016\n",
            "Epoch 95/100\n",
            "31/31 [==============================] - 0s 8ms/step - loss: 0.0016\n",
            "Epoch 96/100\n",
            "31/31 [==============================] - 0s 8ms/step - loss: 0.0015\n",
            "Epoch 97/100\n",
            "31/31 [==============================] - 0s 8ms/step - loss: 0.0012\n",
            "Epoch 98/100\n",
            "31/31 [==============================] - 0s 8ms/step - loss: 0.0013\n",
            "Epoch 99/100\n",
            "31/31 [==============================] - 0s 8ms/step - loss: 0.0015\n",
            "Epoch 100/100\n",
            "31/31 [==============================] - 0s 8ms/step - loss: 0.0012\n"
          ],
          "name": "stdout"
        },
        {
          "output_type": "execute_result",
          "data": {
            "text/plain": [
              "<tensorflow.python.keras.callbacks.History at 0x7f7376ffd150>"
            ]
          },
          "metadata": {
            "tags": []
          },
          "execution_count": 117
        }
      ]
    },
    {
      "cell_type": "code",
      "metadata": {
        "colab": {
          "base_uri": "https://localhost:8080/"
        },
        "id": "aN9RKskCg5cb",
        "outputId": "01310fb0-3a3b-41f0-93b6-221d8e088b98"
      },
      "source": [
        "#Let's create dataset for predictions\n",
        "testX=[]\n",
        "testY=[]\n",
        "for i in range(len(test)-seq_length):\n",
        "  testX.append(test_scaled[i:i+seq_length])\n",
        "  testY.append(test_scaled[i][1])\n",
        "\n",
        "testX=np.array(testX)\n",
        "testY=np.array(testY).reshape((len(test)-seq_length,1))\n",
        "\n",
        "\n",
        "print(\"Shape of test data:\",testX.shape)\n",
        "print(\"Shape of test labels:\",testY.shape)"
      ],
      "execution_count": null,
      "outputs": [
        {
          "output_type": "stream",
          "text": [
            "Shape of test data: (742, 20, 4)\n",
            "Shape of test labels: (742, 1)\n"
          ],
          "name": "stdout"
        }
      ]
    },
    {
      "cell_type": "code",
      "metadata": {
        "id": "gDHRrLXthlRq"
      },
      "source": [
        "#Predictions \n",
        "predicted_data=model.predict(testX)"
      ],
      "execution_count": null,
      "outputs": []
    },
    {
      "cell_type": "code",
      "metadata": {
        "colab": {
          "base_uri": "https://localhost:8080/",
          "height": 295
        },
        "id": "EHknOox4hsb6",
        "outputId": "a62140f6-4e7b-45d2-d66b-c2a99ab423ae"
      },
      "source": [
        "#Plotting values\n",
        "plt.plot(dataset.index.values[1000:1000+len(test)-seq_length],predicted_data,color='red'\n",
        ",label=\"Predicted Stock Price\")\n",
        "plt.plot(dataset.index.values[1000:1000+len(test)-seq_length],testY,color='blue',\n",
        "         label=\"Actual Stock Price\")\n",
        "plt.xticks(np.arange(0,len(test)-seq_length,50))\n",
        "plt.title(\"Predicted Price vs Actual Price\")\n",
        "plt.xlabel('Time')\n",
        "plt.ylabel('AAPL Stock Price')\n",
        "plt.legend()\n",
        "plt.show()"
      ],
      "execution_count": null,
      "outputs": [
        {
          "output_type": "display_data",
          "data": {
            "image/png": "[encoded data removed]",
            "text/plain": [
              "<Figure size 432x288 with 1 Axes>"
            ]
          },
          "metadata": {
            "tags": [],
            "needs_background": "light"
          }
        }
      ]
    }
  ]
}