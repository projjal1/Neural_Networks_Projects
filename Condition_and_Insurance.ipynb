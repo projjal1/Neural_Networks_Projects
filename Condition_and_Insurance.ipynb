{
  "nbformat": 4,
  "nbformat_minor": 5,
  "metadata": {
    "kernelspec": {
      "display_name": "Python 3",
      "language": "python",
      "name": "python3"
    },
    "language_info": {
      "codemirror_mode": {
        "name": "ipython",
        "version": 3
      },
      "file_extension": ".py",
      "mimetype": "text/x-python",
      "name": "python",
      "nbconvert_exporter": "python",
      "pygments_lexer": "ipython3",
      "version": "3.7.2"
    },
    "colab": {
      "name": "Condition and Insurance.ipynb",
      "provenance": [],
      "collapsed_sections": [],
      "include_colab_link": true
    },
    "accelerator": "GPU"
  },
  "cells": [
    {
      "cell_type": "markdown",
      "metadata": {
        "id": "view-in-github",
        "colab_type": "text"
      },
      "source": [
        "<a href=\"https://colab.research.google.com/github/projjal1/Neural_Networks_Projects/blob/master/Condition_and_Insurance.ipynb\" target=\"_parent\"><img src=\"https://colab.research.google.com/assets/colab-badge.svg\" alt=\"Open In Colab\"/></a>"
      ]
    },
    {
      "cell_type": "markdown",
      "metadata": {
        "id": "qoC2rkkdgRXv"
      },
      "source": [
        "Code for Competition on Hackerrank about prediction of car condition while claiming insurance and the amount of insurance to be given. \n",
        "\n",
        "Challenge Hosted at https://www.hackerearth.com/challenges/competitive/hackerearth-machine-learning-challenge-vehicle-insurance-claim/"
      ],
      "id": "qoC2rkkdgRXv"
    },
    {
      "cell_type": "code",
      "metadata": {
        "id": "44f32ddb"
      },
      "source": [
        "import pandas as pd\n",
        "import tensorflow as tf\n",
        "import os\n",
        "import cv2"
      ],
      "id": "44f32ddb",
      "execution_count": 1,
      "outputs": []
    },
    {
      "cell_type": "code",
      "metadata": {
        "colab": {
          "base_uri": "https://localhost:8080/"
        },
        "id": "R806VFaFUs_5",
        "outputId": "2b98fc00-e2c5-493b-a674-e0fd6a70d465"
      },
      "source": [
        "from google.colab import drive\n",
        "drive.mount('/content/drive')"
      ],
      "id": "R806VFaFUs_5",
      "execution_count": 2,
      "outputs": [
        {
          "output_type": "stream",
          "text": [
            "Drive already mounted at /content/drive; to attempt to forcibly remount, call drive.mount(\"/content/drive\", force_remount=True).\n"
          ],
          "name": "stdout"
        }
      ]
    },
    {
      "cell_type": "code",
      "metadata": {
        "id": "RrTuN5HZU-B9"
      },
      "source": [
        "!unzip '/content/drive/MyDrive/Colab Notebooks/dataset.zip'"
      ],
      "id": "RrTuN5HZU-B9",
      "execution_count": null,
      "outputs": []
    },
    {
      "cell_type": "code",
      "metadata": {
        "id": "00bff7c6"
      },
      "source": [
        "#Importing the train dataset csv\n",
        "dataset_csv=pd.read_csv(\"train.csv\")"
      ],
      "id": "00bff7c6",
      "execution_count": 3,
      "outputs": []
    },
    {
      "cell_type": "code",
      "metadata": {
        "colab": {
          "base_uri": "https://localhost:8080/",
          "height": 198
        },
        "id": "fe8a07e8",
        "outputId": "6ea92d18-a493-4bfa-f4fb-2d8617fa5c8a"
      },
      "source": [
        "dataset_csv.head()"
      ],
      "id": "fe8a07e8",
      "execution_count": 4,
      "outputs": [
        {
          "output_type": "execute_result",
          "data": {
            "text/html": [
              "<div>\n",
              "<style scoped>\n",
              "    .dataframe tbody tr th:only-of-type {\n",
              "        vertical-align: middle;\n",
              "    }\n",
              "\n",
              "    .dataframe tbody tr th {\n",
              "        vertical-align: top;\n",
              "    }\n",
              "\n",
              "    .dataframe thead th {\n",
              "        text-align: right;\n",
              "    }\n",
              "</style>\n",
              "<table border=\"1\" class=\"dataframe\">\n",
              "  <thead>\n",
              "    <tr style=\"text-align: right;\">\n",
              "      <th></th>\n",
              "      <th>Image_path</th>\n",
              "      <th>Insurance_company</th>\n",
              "      <th>Cost_of_vehicle</th>\n",
              "      <th>Min_coverage</th>\n",
              "      <th>Expiry_date</th>\n",
              "      <th>Max_coverage</th>\n",
              "      <th>Condition</th>\n",
              "      <th>Amount</th>\n",
              "    </tr>\n",
              "  </thead>\n",
              "  <tbody>\n",
              "    <tr>\n",
              "      <th>0</th>\n",
              "      <td>img_4513976.jpg</td>\n",
              "      <td>BQ</td>\n",
              "      <td>41500.0</td>\n",
              "      <td>1037.5</td>\n",
              "      <td>2026-12-03</td>\n",
              "      <td>36142.68</td>\n",
              "      <td>0</td>\n",
              "      <td>0.0</td>\n",
              "    </tr>\n",
              "    <tr>\n",
              "      <th>1</th>\n",
              "      <td>img_7764995.jpg</td>\n",
              "      <td>BQ</td>\n",
              "      <td>50700.0</td>\n",
              "      <td>1267.5</td>\n",
              "      <td>2025-07-10</td>\n",
              "      <td>12753.00</td>\n",
              "      <td>1</td>\n",
              "      <td>6194.0</td>\n",
              "    </tr>\n",
              "    <tr>\n",
              "      <th>2</th>\n",
              "      <td>img_451308.jpg</td>\n",
              "      <td>A</td>\n",
              "      <td>49500.0</td>\n",
              "      <td>1237.5</td>\n",
              "      <td>2022-08-11</td>\n",
              "      <td>43102.68</td>\n",
              "      <td>0</td>\n",
              "      <td>0.0</td>\n",
              "    </tr>\n",
              "    <tr>\n",
              "      <th>3</th>\n",
              "      <td>img_7768372.jpg</td>\n",
              "      <td>A</td>\n",
              "      <td>33500.0</td>\n",
              "      <td>837.5</td>\n",
              "      <td>2022-08-02</td>\n",
              "      <td>8453.00</td>\n",
              "      <td>1</td>\n",
              "      <td>7699.0</td>\n",
              "    </tr>\n",
              "    <tr>\n",
              "      <th>4</th>\n",
              "      <td>img_7765274.jpg</td>\n",
              "      <td>AC</td>\n",
              "      <td>27600.0</td>\n",
              "      <td>690.0</td>\n",
              "      <td>2026-05-01</td>\n",
              "      <td>6978.00</td>\n",
              "      <td>1</td>\n",
              "      <td>8849.0</td>\n",
              "    </tr>\n",
              "  </tbody>\n",
              "</table>\n",
              "</div>"
            ],
            "text/plain": [
              "        Image_path Insurance_company  ...  Condition  Amount\n",
              "0  img_4513976.jpg                BQ  ...          0     0.0\n",
              "1  img_7764995.jpg                BQ  ...          1  6194.0\n",
              "2   img_451308.jpg                 A  ...          0     0.0\n",
              "3  img_7768372.jpg                 A  ...          1  7699.0\n",
              "4  img_7765274.jpg                AC  ...          1  8849.0\n",
              "\n",
              "[5 rows x 8 columns]"
            ]
          },
          "metadata": {
            "tags": []
          },
          "execution_count": 4
        }
      ]
    },
    {
      "cell_type": "code",
      "metadata": {
        "id": "d8848696"
      },
      "source": [
        "#Filling missing values\n",
        "for col in [\"Cost_of_vehicle\",\"Min_coverage\",\"Max_coverage\",\"Amount\"]:\n",
        "    dataset_csv[col].fillna(dataset_csv[col].mean(),inplace=True)"
      ],
      "id": "d8848696",
      "execution_count": 5,
      "outputs": []
    },
    {
      "cell_type": "code",
      "metadata": {
        "id": "fb45c36e"
      },
      "source": [
        "#Replace 0.0 in amount with average of all amounts\n",
        "dataset_csv[\"Amount\"].replace(0.0,dataset_csv[\"Amount\"].mean(),inplace=True)"
      ],
      "id": "fb45c36e",
      "execution_count": 6,
      "outputs": []
    },
    {
      "cell_type": "code",
      "metadata": {
        "id": "d7d4e21a"
      },
      "source": [
        "#Convert expiry date to datetime\n",
        "dataset_csv[\"Expiry_date\"]=pd.to_datetime(dataset_csv[\"Expiry_date\"])\n",
        "dataset_csv[\"Expiry_date\"]=dataset_csv[\"Expiry_date\"].values.astype(int)"
      ],
      "id": "d7d4e21a",
      "execution_count": 7,
      "outputs": []
    },
    {
      "cell_type": "code",
      "metadata": {
        "id": "0af0fac2"
      },
      "source": [
        "#Convert Insurance_company to Label Encoding \n",
        "from sklearn.preprocessing import LabelEncoder\n",
        "le=LabelEncoder()\n",
        "dataset_csv[\"Insurance_company\"]=le.fit_transform(dataset_csv[\"Insurance_company\"])"
      ],
      "id": "0af0fac2",
      "execution_count": 8,
      "outputs": []
    },
    {
      "cell_type": "code",
      "metadata": {
        "colab": {
          "base_uri": "https://localhost:8080/",
          "height": 218
        },
        "id": "2bf445bd",
        "outputId": "2cfd0f1e-504d-4a6b-be61-7f85b713b539"
      },
      "source": [
        "#Dataset after preprocessing \n",
        "dataset_csv.head()"
      ],
      "id": "2bf445bd",
      "execution_count": 9,
      "outputs": [
        {
          "output_type": "execute_result",
          "data": {
            "text/html": [
              "<div>\n",
              "<style scoped>\n",
              "    .dataframe tbody tr th:only-of-type {\n",
              "        vertical-align: middle;\n",
              "    }\n",
              "\n",
              "    .dataframe tbody tr th {\n",
              "        vertical-align: top;\n",
              "    }\n",
              "\n",
              "    .dataframe thead th {\n",
              "        text-align: right;\n",
              "    }\n",
              "</style>\n",
              "<table border=\"1\" class=\"dataframe\">\n",
              "  <thead>\n",
              "    <tr style=\"text-align: right;\">\n",
              "      <th></th>\n",
              "      <th>Image_path</th>\n",
              "      <th>Insurance_company</th>\n",
              "      <th>Cost_of_vehicle</th>\n",
              "      <th>Min_coverage</th>\n",
              "      <th>Expiry_date</th>\n",
              "      <th>Max_coverage</th>\n",
              "      <th>Condition</th>\n",
              "      <th>Amount</th>\n",
              "    </tr>\n",
              "  </thead>\n",
              "  <tbody>\n",
              "    <tr>\n",
              "      <th>0</th>\n",
              "      <td>img_4513976.jpg</td>\n",
              "      <td>6</td>\n",
              "      <td>41500.0</td>\n",
              "      <td>1037.5</td>\n",
              "      <td>1796256000000000000</td>\n",
              "      <td>36142.68</td>\n",
              "      <td>0</td>\n",
              "      <td>4117.144092</td>\n",
              "    </tr>\n",
              "    <tr>\n",
              "      <th>1</th>\n",
              "      <td>img_7764995.jpg</td>\n",
              "      <td>6</td>\n",
              "      <td>50700.0</td>\n",
              "      <td>1267.5</td>\n",
              "      <td>1752105600000000000</td>\n",
              "      <td>12753.00</td>\n",
              "      <td>1</td>\n",
              "      <td>6194.000000</td>\n",
              "    </tr>\n",
              "    <tr>\n",
              "      <th>2</th>\n",
              "      <td>img_451308.jpg</td>\n",
              "      <td>0</td>\n",
              "      <td>49500.0</td>\n",
              "      <td>1237.5</td>\n",
              "      <td>1660176000000000000</td>\n",
              "      <td>43102.68</td>\n",
              "      <td>0</td>\n",
              "      <td>4117.144092</td>\n",
              "    </tr>\n",
              "    <tr>\n",
              "      <th>3</th>\n",
              "      <td>img_7768372.jpg</td>\n",
              "      <td>0</td>\n",
              "      <td>33500.0</td>\n",
              "      <td>837.5</td>\n",
              "      <td>1659398400000000000</td>\n",
              "      <td>8453.00</td>\n",
              "      <td>1</td>\n",
              "      <td>7699.000000</td>\n",
              "    </tr>\n",
              "    <tr>\n",
              "      <th>4</th>\n",
              "      <td>img_7765274.jpg</td>\n",
              "      <td>2</td>\n",
              "      <td>27600.0</td>\n",
              "      <td>690.0</td>\n",
              "      <td>1777593600000000000</td>\n",
              "      <td>6978.00</td>\n",
              "      <td>1</td>\n",
              "      <td>8849.000000</td>\n",
              "    </tr>\n",
              "  </tbody>\n",
              "</table>\n",
              "</div>"
            ],
            "text/plain": [
              "        Image_path  Insurance_company  ...  Condition       Amount\n",
              "0  img_4513976.jpg                  6  ...          0  4117.144092\n",
              "1  img_7764995.jpg                  6  ...          1  6194.000000\n",
              "2   img_451308.jpg                  0  ...          0  4117.144092\n",
              "3  img_7768372.jpg                  0  ...          1  7699.000000\n",
              "4  img_7765274.jpg                  2  ...          1  8849.000000\n",
              "\n",
              "[5 rows x 8 columns]"
            ]
          },
          "metadata": {
            "tags": []
          },
          "execution_count": 9
        }
      ]
    },
    {
      "cell_type": "code",
      "metadata": {
        "id": "9cb51a4e"
      },
      "source": [
        "#Lets extract Image_path and drop the column\n",
        "target_img_path=dataset_csv[\"Image_path\"]\n",
        "dataset_csv.drop([\"Image_path\"],axis=1,inplace=True)"
      ],
      "id": "9cb51a4e",
      "execution_count": 10,
      "outputs": []
    },
    {
      "cell_type": "code",
      "metadata": {
        "id": "2a9f1179"
      },
      "source": [
        "#Lets extract target condition \n",
        "target_img_condition=dataset_csv[\"Condition\"]"
      ],
      "id": "2a9f1179",
      "execution_count": 11,
      "outputs": []
    },
    {
      "cell_type": "code",
      "metadata": {
        "id": "acc5ea94"
      },
      "source": [
        "#Lets extract Image_path and drop the column\n",
        "target_amt=dataset_csv[\"Amount\"]\n",
        "dataset_csv.drop([\"Amount\"],axis=1,inplace=True)"
      ],
      "id": "acc5ea94",
      "execution_count": 12,
      "outputs": []
    },
    {
      "cell_type": "code",
      "metadata": {
        "colab": {
          "base_uri": "https://localhost:8080/",
          "height": 198
        },
        "id": "46db3982",
        "outputId": "8a8a2de6-f5fe-400a-e02f-94b88d01102b"
      },
      "source": [
        "#dataset after extraction and final for training before scaling\n",
        "dataset_csv.head()"
      ],
      "id": "46db3982",
      "execution_count": 13,
      "outputs": [
        {
          "output_type": "execute_result",
          "data": {
            "text/html": [
              "<div>\n",
              "<style scoped>\n",
              "    .dataframe tbody tr th:only-of-type {\n",
              "        vertical-align: middle;\n",
              "    }\n",
              "\n",
              "    .dataframe tbody tr th {\n",
              "        vertical-align: top;\n",
              "    }\n",
              "\n",
              "    .dataframe thead th {\n",
              "        text-align: right;\n",
              "    }\n",
              "</style>\n",
              "<table border=\"1\" class=\"dataframe\">\n",
              "  <thead>\n",
              "    <tr style=\"text-align: right;\">\n",
              "      <th></th>\n",
              "      <th>Insurance_company</th>\n",
              "      <th>Cost_of_vehicle</th>\n",
              "      <th>Min_coverage</th>\n",
              "      <th>Expiry_date</th>\n",
              "      <th>Max_coverage</th>\n",
              "      <th>Condition</th>\n",
              "    </tr>\n",
              "  </thead>\n",
              "  <tbody>\n",
              "    <tr>\n",
              "      <th>0</th>\n",
              "      <td>6</td>\n",
              "      <td>41500.0</td>\n",
              "      <td>1037.5</td>\n",
              "      <td>1796256000000000000</td>\n",
              "      <td>36142.68</td>\n",
              "      <td>0</td>\n",
              "    </tr>\n",
              "    <tr>\n",
              "      <th>1</th>\n",
              "      <td>6</td>\n",
              "      <td>50700.0</td>\n",
              "      <td>1267.5</td>\n",
              "      <td>1752105600000000000</td>\n",
              "      <td>12753.00</td>\n",
              "      <td>1</td>\n",
              "    </tr>\n",
              "    <tr>\n",
              "      <th>2</th>\n",
              "      <td>0</td>\n",
              "      <td>49500.0</td>\n",
              "      <td>1237.5</td>\n",
              "      <td>1660176000000000000</td>\n",
              "      <td>43102.68</td>\n",
              "      <td>0</td>\n",
              "    </tr>\n",
              "    <tr>\n",
              "      <th>3</th>\n",
              "      <td>0</td>\n",
              "      <td>33500.0</td>\n",
              "      <td>837.5</td>\n",
              "      <td>1659398400000000000</td>\n",
              "      <td>8453.00</td>\n",
              "      <td>1</td>\n",
              "    </tr>\n",
              "    <tr>\n",
              "      <th>4</th>\n",
              "      <td>2</td>\n",
              "      <td>27600.0</td>\n",
              "      <td>690.0</td>\n",
              "      <td>1777593600000000000</td>\n",
              "      <td>6978.00</td>\n",
              "      <td>1</td>\n",
              "    </tr>\n",
              "  </tbody>\n",
              "</table>\n",
              "</div>"
            ],
            "text/plain": [
              "   Insurance_company  Cost_of_vehicle  ...  Max_coverage  Condition\n",
              "0                  6          41500.0  ...      36142.68          0\n",
              "1                  6          50700.0  ...      12753.00          1\n",
              "2                  0          49500.0  ...      43102.68          0\n",
              "3                  0          33500.0  ...       8453.00          1\n",
              "4                  2          27600.0  ...       6978.00          1\n",
              "\n",
              "[5 rows x 6 columns]"
            ]
          },
          "metadata": {
            "tags": []
          },
          "execution_count": 13
        }
      ]
    },
    {
      "cell_type": "code",
      "metadata": {
        "id": "cb2cbffb"
      },
      "source": [
        "#Now let's scale the data\n",
        "from sklearn.preprocessing import RobustScaler \n",
        "scale=RobustScaler()\n",
        "scale.fit(dataset_csv)\n",
        "#Scale and transform\n",
        "dataset_csv=scale.transform(dataset_csv)"
      ],
      "id": "cb2cbffb",
      "execution_count": 14,
      "outputs": []
    },
    {
      "cell_type": "code",
      "metadata": {
        "colab": {
          "base_uri": "https://localhost:8080/"
        },
        "id": "6a726c7b",
        "outputId": "ac89ceb4-6045-43e9-802d-778f9758108a"
      },
      "source": [
        "#Model training \n",
        "from sklearn.ensemble import RandomForestRegressor\n",
        "model_amt=RandomForestRegressor(n_estimators=200,max_depth=30)\n",
        "model_amt.fit(dataset_csv,target_amt)"
      ],
      "id": "6a726c7b",
      "execution_count": 49,
      "outputs": [
        {
          "output_type": "execute_result",
          "data": {
            "text/plain": [
              "RandomForestRegressor(bootstrap=True, ccp_alpha=0.0, criterion='mse',\n",
              "                      max_depth=30, max_features='auto', max_leaf_nodes=None,\n",
              "                      max_samples=None, min_impurity_decrease=0.0,\n",
              "                      min_impurity_split=None, min_samples_leaf=1,\n",
              "                      min_samples_split=2, min_weight_fraction_leaf=0.0,\n",
              "                      n_estimators=200, n_jobs=None, oob_score=False,\n",
              "                      random_state=None, verbose=0, warm_start=False)"
            ]
          },
          "metadata": {
            "tags": []
          },
          "execution_count": 49
        }
      ]
    },
    {
      "cell_type": "code",
      "metadata": {
        "id": "5c4419ca"
      },
      "source": [
        "img_dataset=[]\n",
        "ctr=1\n",
        "\n",
        "#Now create dataset for image data \n",
        "for x in target_img_path.values:\n",
        "    print(\"Operating image:\",ctr)\n",
        "    ctr+=1\n",
        "    img=cv2.imread(\"trainImages/\"+x)\n",
        "    img=cv2.resize(img,(150,150))\n",
        "    #Scale the image\n",
        "    img=img/255.0\n",
        "    img_dataset.append(img)"
      ],
      "id": "5c4419ca",
      "execution_count": null,
      "outputs": []
    },
    {
      "cell_type": "code",
      "metadata": {
        "id": "b4cd06c1"
      },
      "source": [
        "#Now we create model\n",
        "from tensorflow.keras.models import Sequential\n",
        "from tensorflow.keras.layers import Dense, Conv2D, Flatten, Dropout, MaxPooling2D\n",
        "from tensorflow.keras.preprocessing.image import ImageDataGenerator\n",
        "\n",
        "#Model\n",
        "model = Sequential([\n",
        "    Conv2D(16, 3, padding='same', activation='relu', input_shape=(150,150,3)),\n",
        "    MaxPooling2D(),\n",
        "    Conv2D(32, 3, padding='same', activation='relu'),\n",
        "    MaxPooling2D(),\n",
        "    Conv2D(64, 3, padding='same', activation='relu'),\n",
        "    MaxPooling2D(),\n",
        "    Flatten(),\n",
        "    Dense(1024, activation='relu'),\n",
        "    Dense(2, activation='sigmoid')\n",
        "])"
      ],
      "id": "b4cd06c1",
      "execution_count": 32,
      "outputs": []
    },
    {
      "cell_type": "code",
      "metadata": {
        "id": "7P1-6__vWs4l"
      },
      "source": [
        "#Compiling the model\n",
        "import tensorflow as tf\n",
        "\n",
        "model.compile(optimizer='adam',\n",
        "              loss=tf.keras.losses.SparseCategoricalCrossentropy(),\n",
        "              metrics=['accuracy'])"
      ],
      "id": "7P1-6__vWs4l",
      "execution_count": 33,
      "outputs": []
    },
    {
      "cell_type": "code",
      "metadata": {
        "colab": {
          "base_uri": "https://localhost:8080/"
        },
        "id": "b5CDHS8xXr0v",
        "outputId": "b5e17494-a5b0-4e6d-eaa6-39aa4588a571"
      },
      "source": [
        "#Getting the shape of our image dataset\n",
        "import numpy as np\n",
        "img_dataset=np.array(img_dataset)\n",
        "img_dataset.shape"
      ],
      "id": "b5CDHS8xXr0v",
      "execution_count": 34,
      "outputs": [
        {
          "output_type": "execute_result",
          "data": {
            "text/plain": [
              "(1399, 150, 150, 3)"
            ]
          },
          "metadata": {
            "tags": []
          },
          "execution_count": 34
        }
      ]
    },
    {
      "cell_type": "code",
      "metadata": {
        "colab": {
          "base_uri": "https://localhost:8080/"
        },
        "id": "1rvU-nu7X2qy",
        "outputId": "8c606adc-0d97-4365-a853-05b66dad01c3"
      },
      "source": [
        "target_cond=np.array(target_img_condition)\n",
        "target_cond.shape"
      ],
      "id": "1rvU-nu7X2qy",
      "execution_count": 35,
      "outputs": [
        {
          "output_type": "execute_result",
          "data": {
            "text/plain": [
              "(1399,)"
            ]
          },
          "metadata": {
            "tags": []
          },
          "execution_count": 35
        }
      ]
    },
    {
      "cell_type": "code",
      "metadata": {
        "colab": {
          "base_uri": "https://localhost:8080/"
        },
        "id": "McGjAytVW0NE",
        "outputId": "bbcfed3d-a6d2-4767-978b-088e15e2586d"
      },
      "source": [
        "#Training our model with 10 epochs\n",
        "model.fit(img_dataset,target_cond,epochs=10)"
      ],
      "id": "McGjAytVW0NE",
      "execution_count": 36,
      "outputs": [
        {
          "output_type": "stream",
          "text": [
            "Epoch 1/10\n",
            "44/44 [==============================] - 35s 779ms/step - loss: 0.3171 - accuracy: 0.9092\n",
            "Epoch 2/10\n",
            "44/44 [==============================] - 34s 771ms/step - loss: 0.2595 - accuracy: 0.9292\n",
            "Epoch 3/10\n",
            "44/44 [==============================] - 34s 772ms/step - loss: 0.2305 - accuracy: 0.9321\n",
            "Epoch 4/10\n",
            "44/44 [==============================] - 34s 769ms/step - loss: 0.2178 - accuracy: 0.9357\n",
            "Epoch 5/10\n",
            "44/44 [==============================] - 34s 769ms/step - loss: 0.1885 - accuracy: 0.9442\n",
            "Epoch 6/10\n",
            "44/44 [==============================] - 34s 772ms/step - loss: 0.1517 - accuracy: 0.9557\n",
            "Epoch 7/10\n",
            "44/44 [==============================] - 34s 775ms/step - loss: 0.1040 - accuracy: 0.9700\n",
            "Epoch 8/10\n",
            "44/44 [==============================] - 34s 775ms/step - loss: 0.0910 - accuracy: 0.9736\n",
            "Epoch 9/10\n",
            "44/44 [==============================] - 34s 774ms/step - loss: 0.0661 - accuracy: 0.9807\n",
            "Epoch 10/10\n",
            "44/44 [==============================] - 34s 775ms/step - loss: 0.0625 - accuracy: 0.9828\n"
          ],
          "name": "stdout"
        },
        {
          "output_type": "execute_result",
          "data": {
            "text/plain": [
              "<tensorflow.python.keras.callbacks.History at 0x7f69fbefb210>"
            ]
          },
          "metadata": {
            "tags": []
          },
          "execution_count": 36
        }
      ]
    },
    {
      "cell_type": "code",
      "metadata": {
        "colab": {
          "base_uri": "https://localhost:8080/",
          "height": 198
        },
        "id": "HIItT6voZAEB",
        "outputId": "6bbab115-2563-4924-e763-ddd62e92a93d"
      },
      "source": [
        "#Read the test dataset \n",
        "dataset_test=pd.read_csv(\"test.csv\")\n",
        "dataset_test.head()"
      ],
      "id": "HIItT6voZAEB",
      "execution_count": 56,
      "outputs": [
        {
          "output_type": "execute_result",
          "data": {
            "text/html": [
              "<div>\n",
              "<style scoped>\n",
              "    .dataframe tbody tr th:only-of-type {\n",
              "        vertical-align: middle;\n",
              "    }\n",
              "\n",
              "    .dataframe tbody tr th {\n",
              "        vertical-align: top;\n",
              "    }\n",
              "\n",
              "    .dataframe thead th {\n",
              "        text-align: right;\n",
              "    }\n",
              "</style>\n",
              "<table border=\"1\" class=\"dataframe\">\n",
              "  <thead>\n",
              "    <tr style=\"text-align: right;\">\n",
              "      <th></th>\n",
              "      <th>Image_path</th>\n",
              "      <th>Insurance_company</th>\n",
              "      <th>Cost_of_vehicle</th>\n",
              "      <th>Min_coverage</th>\n",
              "      <th>Expiry_date</th>\n",
              "      <th>Max_coverage</th>\n",
              "    </tr>\n",
              "  </thead>\n",
              "  <tbody>\n",
              "    <tr>\n",
              "      <th>0</th>\n",
              "      <td>img_4538519.jpg</td>\n",
              "      <td>B</td>\n",
              "      <td>23600</td>\n",
              "      <td>590.0</td>\n",
              "      <td>2025-04-12</td>\n",
              "      <td>5978.0</td>\n",
              "    </tr>\n",
              "    <tr>\n",
              "      <th>1</th>\n",
              "      <td>img_7766002.jpg</td>\n",
              "      <td>C</td>\n",
              "      <td>28300</td>\n",
              "      <td>707.5</td>\n",
              "      <td>2028-08-24</td>\n",
              "      <td>7153.0</td>\n",
              "    </tr>\n",
              "    <tr>\n",
              "      <th>2</th>\n",
              "      <td>img_4637390.jpg</td>\n",
              "      <td>AC</td>\n",
              "      <td>43700</td>\n",
              "      <td>1092.5</td>\n",
              "      <td>2023-11-28</td>\n",
              "      <td>11003.0</td>\n",
              "    </tr>\n",
              "    <tr>\n",
              "      <th>3</th>\n",
              "      <td>img_4516108.jpg</td>\n",
              "      <td>BB</td>\n",
              "      <td>46100</td>\n",
              "      <td>1152.5</td>\n",
              "      <td>2028-02-04</td>\n",
              "      <td>11603.0</td>\n",
              "    </tr>\n",
              "    <tr>\n",
              "      <th>4</th>\n",
              "      <td>img_4517008.jpg</td>\n",
              "      <td>BB</td>\n",
              "      <td>40700</td>\n",
              "      <td>1017.5</td>\n",
              "      <td>2022-01-03</td>\n",
              "      <td>10253.0</td>\n",
              "    </tr>\n",
              "  </tbody>\n",
              "</table>\n",
              "</div>"
            ],
            "text/plain": [
              "        Image_path Insurance_company  ...  Expiry_date  Max_coverage\n",
              "0  img_4538519.jpg                 B  ...   2025-04-12        5978.0\n",
              "1  img_7766002.jpg                 C  ...   2028-08-24        7153.0\n",
              "2  img_4637390.jpg                AC  ...   2023-11-28       11003.0\n",
              "3  img_4516108.jpg                BB  ...   2028-02-04       11603.0\n",
              "4  img_4517008.jpg                BB  ...   2022-01-03       10253.0\n",
              "\n",
              "[5 rows x 6 columns]"
            ]
          },
          "metadata": {
            "tags": []
          },
          "execution_count": 56
        }
      ]
    },
    {
      "cell_type": "code",
      "metadata": {
        "colab": {
          "base_uri": "https://localhost:8080/"
        },
        "id": "8tI-puEZZH3F",
        "outputId": "b9e1cba7-5491-4cf2-b08b-5b5c7227ff19"
      },
      "source": [
        "#Creating dataset for test data on images\n",
        "img_test_dataset=[]\n",
        "ctr=1\n",
        "\n",
        "#Now create dataset for image data \n",
        "for x in dataset_test[\"Image_path\"].values:\n",
        "    ctr+=1\n",
        "    img=cv2.imread(\"testImages/\"+x)\n",
        "    img=cv2.resize(img,(150,150))\n",
        "    #Scale the image\n",
        "    img=img/255.0\n",
        "    img_test_dataset.append(img)\n",
        "\n",
        "img_test_dataset=np.array(img_dataset)\n",
        "print(\"Shape of test image data:\",img_test_dataset.shape)"
      ],
      "id": "8tI-puEZZH3F",
      "execution_count": 38,
      "outputs": [
        {
          "output_type": "stream",
          "text": [
            "Shape of test image data: (1399, 150, 150, 3)\n"
          ],
          "name": "stdout"
        }
      ]
    },
    {
      "cell_type": "code",
      "metadata": {
        "id": "eEEhJ3hRbYVa"
      },
      "source": [
        "#Lets make predictions for our image data \n",
        "predictions=model.predict(img_test_dataset)"
      ],
      "id": "eEEhJ3hRbYVa",
      "execution_count": 39,
      "outputs": []
    },
    {
      "cell_type": "code",
      "metadata": {
        "id": "Emdz4eMbbhaq"
      },
      "source": [
        "conditions=[]\n",
        "for each in predictions:\n",
        "  conditions.append(np.argmax(each))"
      ],
      "id": "Emdz4eMbbhaq",
      "execution_count": 43,
      "outputs": []
    },
    {
      "cell_type": "code",
      "metadata": {
        "id": "qyyxiXaGb_8Z"
      },
      "source": [
        "path=dataset_test[\"Image_path\"]\n",
        "dataset_test.drop([\"Image_path\"],axis=1,inplace=True)"
      ],
      "id": "qyyxiXaGb_8Z",
      "execution_count": 57,
      "outputs": []
    },
    {
      "cell_type": "code",
      "metadata": {
        "id": "ybSuApXFcUL0"
      },
      "source": [
        "dataset_test[\"Condition\"]=pd.Series(conditions)"
      ],
      "id": "ybSuApXFcUL0",
      "execution_count": 62,
      "outputs": []
    },
    {
      "cell_type": "code",
      "metadata": {
        "colab": {
          "base_uri": "https://localhost:8080/",
          "height": 407
        },
        "id": "Qox_tzmAcZs9",
        "outputId": "77d7a6f9-3fa7-4593-bc0b-251c26a37ce4"
      },
      "source": [
        "dataset_test"
      ],
      "id": "Qox_tzmAcZs9",
      "execution_count": 63,
      "outputs": [
        {
          "output_type": "execute_result",
          "data": {
            "text/html": [
              "<div>\n",
              "<style scoped>\n",
              "    .dataframe tbody tr th:only-of-type {\n",
              "        vertical-align: middle;\n",
              "    }\n",
              "\n",
              "    .dataframe tbody tr th {\n",
              "        vertical-align: top;\n",
              "    }\n",
              "\n",
              "    .dataframe thead th {\n",
              "        text-align: right;\n",
              "    }\n",
              "</style>\n",
              "<table border=\"1\" class=\"dataframe\">\n",
              "  <thead>\n",
              "    <tr style=\"text-align: right;\">\n",
              "      <th></th>\n",
              "      <th>Insurance_company</th>\n",
              "      <th>Cost_of_vehicle</th>\n",
              "      <th>Min_coverage</th>\n",
              "      <th>Expiry_date</th>\n",
              "      <th>Max_coverage</th>\n",
              "      <th>Condition</th>\n",
              "    </tr>\n",
              "  </thead>\n",
              "  <tbody>\n",
              "    <tr>\n",
              "      <th>0</th>\n",
              "      <td>B</td>\n",
              "      <td>23600</td>\n",
              "      <td>590.0</td>\n",
              "      <td>2025-04-12</td>\n",
              "      <td>5978.00</td>\n",
              "      <td>0</td>\n",
              "    </tr>\n",
              "    <tr>\n",
              "      <th>1</th>\n",
              "      <td>C</td>\n",
              "      <td>28300</td>\n",
              "      <td>707.5</td>\n",
              "      <td>2028-08-24</td>\n",
              "      <td>7153.00</td>\n",
              "      <td>1</td>\n",
              "    </tr>\n",
              "    <tr>\n",
              "      <th>2</th>\n",
              "      <td>AC</td>\n",
              "      <td>43700</td>\n",
              "      <td>1092.5</td>\n",
              "      <td>2023-11-28</td>\n",
              "      <td>11003.00</td>\n",
              "      <td>0</td>\n",
              "    </tr>\n",
              "    <tr>\n",
              "      <th>3</th>\n",
              "      <td>BB</td>\n",
              "      <td>46100</td>\n",
              "      <td>1152.5</td>\n",
              "      <td>2028-02-04</td>\n",
              "      <td>11603.00</td>\n",
              "      <td>1</td>\n",
              "    </tr>\n",
              "    <tr>\n",
              "      <th>4</th>\n",
              "      <td>BB</td>\n",
              "      <td>40700</td>\n",
              "      <td>1017.5</td>\n",
              "      <td>2022-01-03</td>\n",
              "      <td>10253.00</td>\n",
              "      <td>1</td>\n",
              "    </tr>\n",
              "    <tr>\n",
              "      <th>...</th>\n",
              "      <td>...</td>\n",
              "      <td>...</td>\n",
              "      <td>...</td>\n",
              "      <td>...</td>\n",
              "      <td>...</td>\n",
              "      <td>...</td>\n",
              "    </tr>\n",
              "    <tr>\n",
              "      <th>595</th>\n",
              "      <td>B</td>\n",
              "      <td>30900</td>\n",
              "      <td>772.5</td>\n",
              "      <td>2024-10-23</td>\n",
              "      <td>7803.00</td>\n",
              "      <td>1</td>\n",
              "    </tr>\n",
              "    <tr>\n",
              "      <th>596</th>\n",
              "      <td>O</td>\n",
              "      <td>51300</td>\n",
              "      <td>1282.5</td>\n",
              "      <td>2025-02-21</td>\n",
              "      <td>12903.00</td>\n",
              "      <td>1</td>\n",
              "    </tr>\n",
              "    <tr>\n",
              "      <th>597</th>\n",
              "      <td>BQ</td>\n",
              "      <td>27000</td>\n",
              "      <td>675.0</td>\n",
              "      <td>2023-07-13</td>\n",
              "      <td>23527.68</td>\n",
              "      <td>1</td>\n",
              "    </tr>\n",
              "    <tr>\n",
              "      <th>598</th>\n",
              "      <td>AA</td>\n",
              "      <td>42600</td>\n",
              "      <td>1065.0</td>\n",
              "      <td>2024-05-05</td>\n",
              "      <td>10728.00</td>\n",
              "      <td>1</td>\n",
              "    </tr>\n",
              "    <tr>\n",
              "      <th>599</th>\n",
              "      <td>RE</td>\n",
              "      <td>49300</td>\n",
              "      <td>1232.5</td>\n",
              "      <td>2025-08-07</td>\n",
              "      <td>12403.00</td>\n",
              "      <td>1</td>\n",
              "    </tr>\n",
              "  </tbody>\n",
              "</table>\n",
              "<p>600 rows × 6 columns</p>\n",
              "</div>"
            ],
            "text/plain": [
              "    Insurance_company  Cost_of_vehicle  ...  Max_coverage Condition\n",
              "0                   B            23600  ...       5978.00         0\n",
              "1                   C            28300  ...       7153.00         1\n",
              "2                  AC            43700  ...      11003.00         0\n",
              "3                  BB            46100  ...      11603.00         1\n",
              "4                  BB            40700  ...      10253.00         1\n",
              "..                ...              ...  ...           ...       ...\n",
              "595                 B            30900  ...       7803.00         1\n",
              "596                 O            51300  ...      12903.00         1\n",
              "597                BQ            27000  ...      23527.68         1\n",
              "598                AA            42600  ...      10728.00         1\n",
              "599                RE            49300  ...      12403.00         1\n",
              "\n",
              "[600 rows x 6 columns]"
            ]
          },
          "metadata": {
            "tags": []
          },
          "execution_count": 63
        }
      ]
    },
    {
      "cell_type": "code",
      "metadata": {
        "id": "d74t0_eFcrjH"
      },
      "source": [
        "#Convert expiry date to datetime\n",
        "dataset_test[\"Expiry_date\"]=pd.to_datetime(dataset_test[\"Expiry_date\"])\n",
        "dataset_test[\"Expiry_date\"]=dataset_test[\"Expiry_date\"].values.astype(int)"
      ],
      "id": "d74t0_eFcrjH",
      "execution_count": 64,
      "outputs": []
    },
    {
      "cell_type": "code",
      "metadata": {
        "id": "m-Hm2PsLdAnO"
      },
      "source": [
        "#Convert Insurance_company to Label Encoding \n",
        "from sklearn.preprocessing import LabelEncoder\n",
        "le=LabelEncoder()\n",
        "dataset_test[\"Insurance_company\"]=le.fit_transform(dataset_test[\"Insurance_company\"])"
      ],
      "id": "m-Hm2PsLdAnO",
      "execution_count": 65,
      "outputs": []
    },
    {
      "cell_type": "code",
      "metadata": {
        "id": "9XYB9ndPdDbp"
      },
      "source": [
        "#Scaling dataset using scaler previuosly used for scaling train dataset\n",
        "dataset_test=scale.transform(dataset_test)"
      ],
      "id": "9XYB9ndPdDbp",
      "execution_count": 66,
      "outputs": []
    },
    {
      "cell_type": "code",
      "metadata": {
        "id": "OiyD0my6dNgo"
      },
      "source": [
        "#Predicitions on insurance amount\n",
        "insurance=model_amt.predict(dataset_test)\n",
        "insurance"
      ],
      "id": "OiyD0my6dNgo",
      "execution_count": null,
      "outputs": []
    },
    {
      "cell_type": "code",
      "metadata": {
        "id": "fuKtchhtdjxy"
      },
      "source": [
        "#Result \n",
        "df=pd.DataFrame()\n",
        "df[\"Image_path\"]=path\n",
        "df[\"Condition\"]=pd.Series(conditions)\n",
        "df[\"Amount\"]=pd.Series(insurance)\n",
        "\n",
        "df.to_csv(\"2submision.csv\",index=False)"
      ],
      "id": "fuKtchhtdjxy",
      "execution_count": 75,
      "outputs": []
    }
  ]
}